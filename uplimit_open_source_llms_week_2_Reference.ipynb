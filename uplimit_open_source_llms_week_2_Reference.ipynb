{
  "cells": [
    {
      "cell_type": "markdown",
      "metadata": {
        "id": "view-in-github",
        "colab_type": "text"
      },
      "source": [
        "<a href=\"https://colab.research.google.com/github/bhuvana-ak/uplimit_projects/blob/main/uplimit_open_source_llms_week_2_Reference.ipynb\" target=\"_parent\"><img src=\"https://colab.research.google.com/assets/colab-badge.svg\" alt=\"Open In Colab\"/></a>"
      ]
    },
    {
      "cell_type": "code",
      "execution_count": null,
      "metadata": {
        "id": "rjWrZCQlUGxr"
      },
      "outputs": [],
      "source": [
        "!pip install datasets -qq"
      ]
    },
    {
      "cell_type": "code",
      "source": [
        "!pip install -U git+https://github.com/huggingface/transformers\n",
        "!pip install -U git+https://github.com/huggingface/trl.git"
      ],
      "metadata": {
        "colab": {
          "base_uri": "https://localhost:8080/",
          "height": 1000
        },
        "id": "2k0XUMG2LjOJ",
        "outputId": "f62a946a-0baa-4cce-e178-5fd710f96d3a"
      },
      "execution_count": null,
      "outputs": [
        {
          "output_type": "stream",
          "name": "stdout",
          "text": [
            "Collecting git+https://github.com/huggingface/transformers\n",
            "  Cloning https://github.com/huggingface/transformers to /tmp/pip-req-build-affjwohk\n",
            "  Running command git clone --filter=blob:none --quiet https://github.com/huggingface/transformers /tmp/pip-req-build-affjwohk\n",
            "  Resolved https://github.com/huggingface/transformers to commit f0b3ef9e2e6a76bd22091502899091b47ce7e930\n",
            "  Installing build dependencies ... \u001b[?25l\u001b[?25hdone\n",
            "  Getting requirements to build wheel ... \u001b[?25l\u001b[?25hdone\n",
            "  Preparing metadata (pyproject.toml) ... \u001b[?25l\u001b[?25hdone\n",
            "Requirement already satisfied: filelock in /usr/local/lib/python3.10/dist-packages (from transformers==4.47.0.dev0) (3.16.1)\n",
            "Requirement already satisfied: huggingface-hub<1.0,>=0.23.2 in /usr/local/lib/python3.10/dist-packages (from transformers==4.47.0.dev0) (0.24.7)\n",
            "Requirement already satisfied: numpy>=1.17 in /usr/local/lib/python3.10/dist-packages (from transformers==4.47.0.dev0) (1.26.4)\n",
            "Requirement already satisfied: packaging>=20.0 in /usr/local/lib/python3.10/dist-packages (from transformers==4.47.0.dev0) (24.1)\n",
            "Requirement already satisfied: pyyaml>=5.1 in /usr/local/lib/python3.10/dist-packages (from transformers==4.47.0.dev0) (6.0.2)\n",
            "Requirement already satisfied: regex!=2019.12.17 in /usr/local/lib/python3.10/dist-packages (from transformers==4.47.0.dev0) (2024.9.11)\n",
            "Requirement already satisfied: requests in /usr/local/lib/python3.10/dist-packages (from transformers==4.47.0.dev0) (2.32.3)\n",
            "Requirement already satisfied: tokenizers<0.21,>=0.20 in /usr/local/lib/python3.10/dist-packages (from transformers==4.47.0.dev0) (0.20.1)\n",
            "Requirement already satisfied: safetensors>=0.4.1 in /usr/local/lib/python3.10/dist-packages (from transformers==4.47.0.dev0) (0.4.5)\n",
            "Requirement already satisfied: tqdm>=4.27 in /usr/local/lib/python3.10/dist-packages (from transformers==4.47.0.dev0) (4.66.5)\n",
            "Requirement already satisfied: fsspec>=2023.5.0 in /usr/local/lib/python3.10/dist-packages (from huggingface-hub<1.0,>=0.23.2->transformers==4.47.0.dev0) (2024.6.1)\n",
            "Requirement already satisfied: typing-extensions>=3.7.4.3 in /usr/local/lib/python3.10/dist-packages (from huggingface-hub<1.0,>=0.23.2->transformers==4.47.0.dev0) (4.12.2)\n",
            "Requirement already satisfied: charset-normalizer<4,>=2 in /usr/local/lib/python3.10/dist-packages (from requests->transformers==4.47.0.dev0) (3.4.0)\n",
            "Requirement already satisfied: idna<4,>=2.5 in /usr/local/lib/python3.10/dist-packages (from requests->transformers==4.47.0.dev0) (3.10)\n",
            "Requirement already satisfied: urllib3<3,>=1.21.1 in /usr/local/lib/python3.10/dist-packages (from requests->transformers==4.47.0.dev0) (2.2.3)\n",
            "Requirement already satisfied: certifi>=2017.4.17 in /usr/local/lib/python3.10/dist-packages (from requests->transformers==4.47.0.dev0) (2024.8.30)\n",
            "Collecting git+https://github.com/huggingface/trl.git\n",
            "  Cloning https://github.com/huggingface/trl.git to /tmp/pip-req-build-3d9rytd8\n",
            "  Running command git clone --filter=blob:none --quiet https://github.com/huggingface/trl.git /tmp/pip-req-build-3d9rytd8\n",
            "  Resolved https://github.com/huggingface/trl.git to commit 99225bb6d6997e88312159d65bce8373659fb1fc\n",
            "  Installing build dependencies ... \u001b[?25l\u001b[?25hdone\n",
            "  Getting requirements to build wheel ... \u001b[?25l\u001b[?25hdone\n",
            "  Preparing metadata (pyproject.toml) ... \u001b[?25l\u001b[?25hdone\n",
            "Requirement already satisfied: torch>=1.4.0 in /usr/local/lib/python3.10/dist-packages (from trl==0.12.0.dev0) (2.5.0+cu121)\n",
            "Requirement already satisfied: transformers>=4.46.0 in /usr/local/lib/python3.10/dist-packages (from trl==0.12.0.dev0) (4.47.0.dev0)\n",
            "Requirement already satisfied: accelerate in /usr/local/lib/python3.10/dist-packages (from trl==0.12.0.dev0) (0.34.2)\n",
            "Requirement already satisfied: datasets in /usr/local/lib/python3.10/dist-packages (from trl==0.12.0.dev0) (3.0.2)\n",
            "Requirement already satisfied: tyro>=0.5.11 in /usr/local/lib/python3.10/dist-packages (from trl==0.12.0.dev0) (0.8.14)\n",
            "Requirement already satisfied: numpy>=1.18.2 in /usr/local/lib/python3.10/dist-packages (from trl==0.12.0.dev0) (1.26.4)\n",
            "Requirement already satisfied: filelock in /usr/local/lib/python3.10/dist-packages (from torch>=1.4.0->trl==0.12.0.dev0) (3.16.1)\n",
            "Requirement already satisfied: typing-extensions>=4.8.0 in /usr/local/lib/python3.10/dist-packages (from torch>=1.4.0->trl==0.12.0.dev0) (4.12.2)\n",
            "Requirement already satisfied: networkx in /usr/local/lib/python3.10/dist-packages (from torch>=1.4.0->trl==0.12.0.dev0) (3.4.2)\n",
            "Requirement already satisfied: jinja2 in /usr/local/lib/python3.10/dist-packages (from torch>=1.4.0->trl==0.12.0.dev0) (3.1.4)\n",
            "Requirement already satisfied: fsspec in /usr/local/lib/python3.10/dist-packages (from torch>=1.4.0->trl==0.12.0.dev0) (2024.6.1)\n",
            "Requirement already satisfied: sympy==1.13.1 in /usr/local/lib/python3.10/dist-packages (from torch>=1.4.0->trl==0.12.0.dev0) (1.13.1)\n",
            "Requirement already satisfied: mpmath<1.4,>=1.1.0 in /usr/local/lib/python3.10/dist-packages (from sympy==1.13.1->torch>=1.4.0->trl==0.12.0.dev0) (1.3.0)\n",
            "Requirement already satisfied: huggingface-hub<1.0,>=0.23.2 in /usr/local/lib/python3.10/dist-packages (from transformers>=4.46.0->trl==0.12.0.dev0) (0.24.7)\n",
            "Requirement already satisfied: packaging>=20.0 in /usr/local/lib/python3.10/dist-packages (from transformers>=4.46.0->trl==0.12.0.dev0) (24.1)\n",
            "Requirement already satisfied: pyyaml>=5.1 in /usr/local/lib/python3.10/dist-packages (from transformers>=4.46.0->trl==0.12.0.dev0) (6.0.2)\n",
            "Requirement already satisfied: regex!=2019.12.17 in /usr/local/lib/python3.10/dist-packages (from transformers>=4.46.0->trl==0.12.0.dev0) (2024.9.11)\n",
            "Requirement already satisfied: requests in /usr/local/lib/python3.10/dist-packages (from transformers>=4.46.0->trl==0.12.0.dev0) (2.32.3)\n",
            "Requirement already satisfied: tokenizers<0.21,>=0.20 in /usr/local/lib/python3.10/dist-packages (from transformers>=4.46.0->trl==0.12.0.dev0) (0.20.1)\n",
            "Requirement already satisfied: safetensors>=0.4.1 in /usr/local/lib/python3.10/dist-packages (from transformers>=4.46.0->trl==0.12.0.dev0) (0.4.5)\n",
            "Requirement already satisfied: tqdm>=4.27 in /usr/local/lib/python3.10/dist-packages (from transformers>=4.46.0->trl==0.12.0.dev0) (4.66.5)\n",
            "Requirement already satisfied: docstring-parser>=0.16 in /usr/local/lib/python3.10/dist-packages (from tyro>=0.5.11->trl==0.12.0.dev0) (0.16)\n",
            "Requirement already satisfied: rich>=11.1.0 in /usr/local/lib/python3.10/dist-packages (from tyro>=0.5.11->trl==0.12.0.dev0) (13.9.2)\n",
            "Requirement already satisfied: shtab>=1.5.6 in /usr/local/lib/python3.10/dist-packages (from tyro>=0.5.11->trl==0.12.0.dev0) (1.7.1)\n",
            "Requirement already satisfied: psutil in /usr/local/lib/python3.10/dist-packages (from accelerate->trl==0.12.0.dev0) (5.9.5)\n",
            "Requirement already satisfied: pyarrow>=15.0.0 in /usr/local/lib/python3.10/dist-packages (from datasets->trl==0.12.0.dev0) (16.1.0)\n",
            "Requirement already satisfied: dill<0.3.9,>=0.3.0 in /usr/local/lib/python3.10/dist-packages (from datasets->trl==0.12.0.dev0) (0.3.8)\n",
            "Requirement already satisfied: pandas in /usr/local/lib/python3.10/dist-packages (from datasets->trl==0.12.0.dev0) (2.2.2)\n",
            "Requirement already satisfied: xxhash in /usr/local/lib/python3.10/dist-packages (from datasets->trl==0.12.0.dev0) (3.5.0)\n",
            "Requirement already satisfied: multiprocess<0.70.17 in /usr/local/lib/python3.10/dist-packages (from datasets->trl==0.12.0.dev0) (0.70.16)\n",
            "Requirement already satisfied: aiohttp in /usr/local/lib/python3.10/dist-packages (from datasets->trl==0.12.0.dev0) (3.10.10)\n",
            "Requirement already satisfied: aiohappyeyeballs>=2.3.0 in /usr/local/lib/python3.10/dist-packages (from aiohttp->datasets->trl==0.12.0.dev0) (2.4.3)\n",
            "Requirement already satisfied: aiosignal>=1.1.2 in /usr/local/lib/python3.10/dist-packages (from aiohttp->datasets->trl==0.12.0.dev0) (1.3.1)\n",
            "Requirement already satisfied: attrs>=17.3.0 in /usr/local/lib/python3.10/dist-packages (from aiohttp->datasets->trl==0.12.0.dev0) (24.2.0)\n",
            "Requirement already satisfied: frozenlist>=1.1.1 in /usr/local/lib/python3.10/dist-packages (from aiohttp->datasets->trl==0.12.0.dev0) (1.4.1)\n",
            "Requirement already satisfied: multidict<7.0,>=4.5 in /usr/local/lib/python3.10/dist-packages (from aiohttp->datasets->trl==0.12.0.dev0) (6.1.0)\n",
            "Requirement already satisfied: yarl<2.0,>=1.12.0 in /usr/local/lib/python3.10/dist-packages (from aiohttp->datasets->trl==0.12.0.dev0) (1.16.0)\n",
            "Requirement already satisfied: async-timeout<5.0,>=4.0 in /usr/local/lib/python3.10/dist-packages (from aiohttp->datasets->trl==0.12.0.dev0) (4.0.3)\n",
            "Requirement already satisfied: charset-normalizer<4,>=2 in /usr/local/lib/python3.10/dist-packages (from requests->transformers>=4.46.0->trl==0.12.0.dev0) (3.4.0)\n",
            "Requirement already satisfied: idna<4,>=2.5 in /usr/local/lib/python3.10/dist-packages (from requests->transformers>=4.46.0->trl==0.12.0.dev0) (3.10)\n",
            "Requirement already satisfied: urllib3<3,>=1.21.1 in /usr/local/lib/python3.10/dist-packages (from requests->transformers>=4.46.0->trl==0.12.0.dev0) (2.2.3)\n",
            "Requirement already satisfied: certifi>=2017.4.17 in /usr/local/lib/python3.10/dist-packages (from requests->transformers>=4.46.0->trl==0.12.0.dev0) (2024.8.30)\n",
            "Requirement already satisfied: markdown-it-py>=2.2.0 in /usr/local/lib/python3.10/dist-packages (from rich>=11.1.0->tyro>=0.5.11->trl==0.12.0.dev0) (3.0.0)\n",
            "Requirement already satisfied: pygments<3.0.0,>=2.13.0 in /usr/local/lib/python3.10/dist-packages (from rich>=11.1.0->tyro>=0.5.11->trl==0.12.0.dev0) (2.18.0)\n",
            "Requirement already satisfied: MarkupSafe>=2.0 in /usr/local/lib/python3.10/dist-packages (from jinja2->torch>=1.4.0->trl==0.12.0.dev0) (3.0.2)\n",
            "Requirement already satisfied: python-dateutil>=2.8.2 in /usr/local/lib/python3.10/dist-packages (from pandas->datasets->trl==0.12.0.dev0) (2.8.2)\n",
            "Requirement already satisfied: pytz>=2020.1 in /usr/local/lib/python3.10/dist-packages (from pandas->datasets->trl==0.12.0.dev0) (2024.2)\n",
            "Requirement already satisfied: tzdata>=2022.7 in /usr/local/lib/python3.10/dist-packages (from pandas->datasets->trl==0.12.0.dev0) (2024.2)\n",
            "Requirement already satisfied: mdurl~=0.1 in /usr/local/lib/python3.10/dist-packages (from markdown-it-py>=2.2.0->rich>=11.1.0->tyro>=0.5.11->trl==0.12.0.dev0) (0.1.2)\n",
            "Requirement already satisfied: six>=1.5 in /usr/local/lib/python3.10/dist-packages (from python-dateutil>=2.8.2->pandas->datasets->trl==0.12.0.dev0) (1.16.0)\n",
            "Requirement already satisfied: propcache>=0.2.0 in /usr/local/lib/python3.10/dist-packages (from yarl<2.0,>=1.12.0->aiohttp->datasets->trl==0.12.0.dev0) (0.2.0)\n",
            "Building wheels for collected packages: trl\n",
            "  Building wheel for trl (pyproject.toml) ... \u001b[?25l\u001b[?25hdone\n",
            "  Created wheel for trl: filename=trl-0.12.0.dev0-py3-none-any.whl size=307074 sha256=98a927ec42c5171f82f4840e58ee5b511806b0ccd39d56583180ef68a78c3c45\n",
            "  Stored in directory: /tmp/pip-ephem-wheel-cache-t2k9f1ft/wheels/22/0e/42/319b77b2648bb6140ef2b08b0478ede9ca3cc7879fcd022d36\n",
            "Successfully built trl\n",
            "Installing collected packages: trl\n",
            "  Attempting uninstall: trl\n",
            "    Found existing installation: trl 0.11.4\n",
            "    Uninstalling trl-0.11.4:\n",
            "      Successfully uninstalled trl-0.11.4\n",
            "Successfully installed trl-0.12.0.dev0\n"
          ]
        },
        {
          "output_type": "display_data",
          "data": {
            "application/vnd.colab-display-data+json": {
              "pip_warning": {
                "packages": [
                  "trl"
                ]
              },
              "id": "6e140422d792451b80ee8fe955f13690"
            }
          },
          "metadata": {}
        }
      ]
    },
    {
      "cell_type": "code",
      "execution_count": null,
      "metadata": {
        "colab": {
          "base_uri": "https://localhost:8080/"
        },
        "id": "CbYjlEzkHSY3",
        "outputId": "6a2da3df-e284-426d-dc98-b8bbb26edc57"
      },
      "outputs": [
        {
          "output_type": "stream",
          "name": "stdout",
          "text": [
            "Requirement already satisfied: peft in /usr/local/lib/python3.10/dist-packages (0.13.2)\n",
            "Requirement already satisfied: numpy>=1.17 in /usr/local/lib/python3.10/dist-packages (from peft) (1.26.4)\n",
            "Requirement already satisfied: packaging>=20.0 in /usr/local/lib/python3.10/dist-packages (from peft) (24.1)\n",
            "Requirement already satisfied: psutil in /usr/local/lib/python3.10/dist-packages (from peft) (5.9.5)\n",
            "Requirement already satisfied: pyyaml in /usr/local/lib/python3.10/dist-packages (from peft) (6.0.2)\n",
            "Requirement already satisfied: torch>=1.13.0 in /usr/local/lib/python3.10/dist-packages (from peft) (2.5.0+cu121)\n",
            "Requirement already satisfied: transformers in /usr/local/lib/python3.10/dist-packages (from peft) (4.47.0.dev0)\n",
            "Requirement already satisfied: tqdm in /usr/local/lib/python3.10/dist-packages (from peft) (4.66.5)\n",
            "Requirement already satisfied: accelerate>=0.21.0 in /usr/local/lib/python3.10/dist-packages (from peft) (0.34.2)\n",
            "Requirement already satisfied: safetensors in /usr/local/lib/python3.10/dist-packages (from peft) (0.4.5)\n",
            "Requirement already satisfied: huggingface-hub>=0.17.0 in /usr/local/lib/python3.10/dist-packages (from peft) (0.24.7)\n",
            "Requirement already satisfied: filelock in /usr/local/lib/python3.10/dist-packages (from huggingface-hub>=0.17.0->peft) (3.16.1)\n",
            "Requirement already satisfied: fsspec>=2023.5.0 in /usr/local/lib/python3.10/dist-packages (from huggingface-hub>=0.17.0->peft) (2024.6.1)\n",
            "Requirement already satisfied: requests in /usr/local/lib/python3.10/dist-packages (from huggingface-hub>=0.17.0->peft) (2.32.3)\n",
            "Requirement already satisfied: typing-extensions>=3.7.4.3 in /usr/local/lib/python3.10/dist-packages (from huggingface-hub>=0.17.0->peft) (4.12.2)\n",
            "Requirement already satisfied: networkx in /usr/local/lib/python3.10/dist-packages (from torch>=1.13.0->peft) (3.4.2)\n",
            "Requirement already satisfied: jinja2 in /usr/local/lib/python3.10/dist-packages (from torch>=1.13.0->peft) (3.1.4)\n",
            "Requirement already satisfied: sympy==1.13.1 in /usr/local/lib/python3.10/dist-packages (from torch>=1.13.0->peft) (1.13.1)\n",
            "Requirement already satisfied: mpmath<1.4,>=1.1.0 in /usr/local/lib/python3.10/dist-packages (from sympy==1.13.1->torch>=1.13.0->peft) (1.3.0)\n",
            "Requirement already satisfied: regex!=2019.12.17 in /usr/local/lib/python3.10/dist-packages (from transformers->peft) (2024.9.11)\n",
            "Requirement already satisfied: tokenizers<0.21,>=0.20 in /usr/local/lib/python3.10/dist-packages (from transformers->peft) (0.20.1)\n",
            "Requirement already satisfied: MarkupSafe>=2.0 in /usr/local/lib/python3.10/dist-packages (from jinja2->torch>=1.13.0->peft) (3.0.2)\n",
            "Requirement already satisfied: charset-normalizer<4,>=2 in /usr/local/lib/python3.10/dist-packages (from requests->huggingface-hub>=0.17.0->peft) (3.4.0)\n",
            "Requirement already satisfied: idna<4,>=2.5 in /usr/local/lib/python3.10/dist-packages (from requests->huggingface-hub>=0.17.0->peft) (3.10)\n",
            "Requirement already satisfied: urllib3<3,>=1.21.1 in /usr/local/lib/python3.10/dist-packages (from requests->huggingface-hub>=0.17.0->peft) (2.2.3)\n",
            "Requirement already satisfied: certifi>=2017.4.17 in /usr/local/lib/python3.10/dist-packages (from requests->huggingface-hub>=0.17.0->peft) (2024.8.30)\n",
            "Requirement already satisfied: accelerate in /usr/local/lib/python3.10/dist-packages (0.34.2)\n",
            "Requirement already satisfied: numpy<3.0.0,>=1.17 in /usr/local/lib/python3.10/dist-packages (from accelerate) (1.26.4)\n",
            "Requirement already satisfied: packaging>=20.0 in /usr/local/lib/python3.10/dist-packages (from accelerate) (24.1)\n",
            "Requirement already satisfied: psutil in /usr/local/lib/python3.10/dist-packages (from accelerate) (5.9.5)\n",
            "Requirement already satisfied: pyyaml in /usr/local/lib/python3.10/dist-packages (from accelerate) (6.0.2)\n",
            "Requirement already satisfied: torch>=1.10.0 in /usr/local/lib/python3.10/dist-packages (from accelerate) (2.5.0+cu121)\n",
            "Requirement already satisfied: huggingface-hub>=0.21.0 in /usr/local/lib/python3.10/dist-packages (from accelerate) (0.24.7)\n",
            "Requirement already satisfied: safetensors>=0.4.3 in /usr/local/lib/python3.10/dist-packages (from accelerate) (0.4.5)\n",
            "Requirement already satisfied: filelock in /usr/local/lib/python3.10/dist-packages (from huggingface-hub>=0.21.0->accelerate) (3.16.1)\n",
            "Requirement already satisfied: fsspec>=2023.5.0 in /usr/local/lib/python3.10/dist-packages (from huggingface-hub>=0.21.0->accelerate) (2024.6.1)\n",
            "Requirement already satisfied: requests in /usr/local/lib/python3.10/dist-packages (from huggingface-hub>=0.21.0->accelerate) (2.32.3)\n",
            "Requirement already satisfied: tqdm>=4.42.1 in /usr/local/lib/python3.10/dist-packages (from huggingface-hub>=0.21.0->accelerate) (4.66.5)\n",
            "Requirement already satisfied: typing-extensions>=3.7.4.3 in /usr/local/lib/python3.10/dist-packages (from huggingface-hub>=0.21.0->accelerate) (4.12.2)\n",
            "Requirement already satisfied: networkx in /usr/local/lib/python3.10/dist-packages (from torch>=1.10.0->accelerate) (3.4.2)\n",
            "Requirement already satisfied: jinja2 in /usr/local/lib/python3.10/dist-packages (from torch>=1.10.0->accelerate) (3.1.4)\n",
            "Requirement already satisfied: sympy==1.13.1 in /usr/local/lib/python3.10/dist-packages (from torch>=1.10.0->accelerate) (1.13.1)\n",
            "Requirement already satisfied: mpmath<1.4,>=1.1.0 in /usr/local/lib/python3.10/dist-packages (from sympy==1.13.1->torch>=1.10.0->accelerate) (1.3.0)\n",
            "Requirement already satisfied: MarkupSafe>=2.0 in /usr/local/lib/python3.10/dist-packages (from jinja2->torch>=1.10.0->accelerate) (3.0.2)\n",
            "Requirement already satisfied: charset-normalizer<4,>=2 in /usr/local/lib/python3.10/dist-packages (from requests->huggingface-hub>=0.21.0->accelerate) (3.4.0)\n",
            "Requirement already satisfied: idna<4,>=2.5 in /usr/local/lib/python3.10/dist-packages (from requests->huggingface-hub>=0.21.0->accelerate) (3.10)\n",
            "Requirement already satisfied: urllib3<3,>=1.21.1 in /usr/local/lib/python3.10/dist-packages (from requests->huggingface-hub>=0.21.0->accelerate) (2.2.3)\n",
            "Requirement already satisfied: certifi>=2017.4.17 in /usr/local/lib/python3.10/dist-packages (from requests->huggingface-hub>=0.21.0->accelerate) (2024.8.30)\n",
            "Requirement already satisfied: bitsandbytes in /usr/local/lib/python3.10/dist-packages (0.44.1)\n",
            "Requirement already satisfied: torch in /usr/local/lib/python3.10/dist-packages (from bitsandbytes) (2.5.0+cu121)\n",
            "Requirement already satisfied: numpy in /usr/local/lib/python3.10/dist-packages (from bitsandbytes) (1.26.4)\n",
            "Requirement already satisfied: filelock in /usr/local/lib/python3.10/dist-packages (from torch->bitsandbytes) (3.16.1)\n",
            "Requirement already satisfied: typing-extensions>=4.8.0 in /usr/local/lib/python3.10/dist-packages (from torch->bitsandbytes) (4.12.2)\n",
            "Requirement already satisfied: networkx in /usr/local/lib/python3.10/dist-packages (from torch->bitsandbytes) (3.4.2)\n",
            "Requirement already satisfied: jinja2 in /usr/local/lib/python3.10/dist-packages (from torch->bitsandbytes) (3.1.4)\n",
            "Requirement already satisfied: fsspec in /usr/local/lib/python3.10/dist-packages (from torch->bitsandbytes) (2024.6.1)\n",
            "Requirement already satisfied: sympy==1.13.1 in /usr/local/lib/python3.10/dist-packages (from torch->bitsandbytes) (1.13.1)\n",
            "Requirement already satisfied: mpmath<1.4,>=1.1.0 in /usr/local/lib/python3.10/dist-packages (from sympy==1.13.1->torch->bitsandbytes) (1.3.0)\n",
            "Requirement already satisfied: MarkupSafe>=2.0 in /usr/local/lib/python3.10/dist-packages (from jinja2->torch->bitsandbytes) (3.0.2)\n"
          ]
        }
      ],
      "source": [
        "# Install required libraries\n",
        "!pip install -U peft\n",
        "!pip install accelerate\n",
        "!pip install bitsandbytes"
      ]
    },
    {
      "cell_type": "code",
      "execution_count": null,
      "metadata": {
        "id": "zxkiIyeBUQPT"
      },
      "outputs": [],
      "source": [
        "from datasets import load_dataset\n",
        "\n",
        "dataset = load_dataset('mlabonne/orpo-dpo-mix-40k')"
      ]
    },
    {
      "cell_type": "code",
      "execution_count": null,
      "metadata": {
        "colab": {
          "base_uri": "https://localhost:8080/"
        },
        "id": "dCzNodnlXtgP",
        "outputId": "42aac736-c30a-47ed-d099-730406d88186"
      },
      "outputs": [
        {
          "output_type": "execute_result",
          "data": {
            "text/plain": [
              "{'source': 'Airoboros',\n",
              " 'chosen': [{'content': 'The setting is an otherworldly, yet eerily familiar, metropolis known as \"Zephyria.\" It\\'s a city suspended in the ether, floating amidst nebulous clouds of cosmic dust. The architecture here is surreal and alien, with buildings that twist and spiral like strands of DNA, reaching towards the cosmos. Streets are paved with luminescent cobblestones, casting soft hues of blues and purples, reflecting off iridescent structures. Strange vegetation, vibrant and bioluminescent, thrives everywhere, creating a stark contrast against the deep indigo sky.\\n\\nNow, immerse me in this ethereal journey through Zephyria.',\n",
              "   'role': 'user'},\n",
              "  {'content': \"As you step onto the teleportation platform, there's a momentary sense of disorientation before your surroundings change abruptly. You find yourself standing on the outskirts of Zephyria, gazing at the sprawling metropolis that glows softly under the starlit canvas above. A gentle breeze, carrying hints of exotic fragrances from unknown flora, greets you. \\n\\nYou begin to walk along the radiant pathway, each cobblestone pulsating beneath your feet, resonating with a rhythm that seems almost alive. The cityscape ahead shimmers with countless shades of sapphire, amethyst, and turquoise, their reflections dancing upon the glassy surfaces of the spiraling towers around you. The air vibrates subtly with an underlying hum, a symphony of unseen energy sources powering this celestial city.\\n\\nApproaching one of the spiraling edifices, you reach out to touch its surface. It feels unexpectedly warm, humming slightly under your fingertips. Its translucent walls ripple with colors, revealing glimpses of life within - shadowy figures moving about, engaging in activities that seem both mundane and extraordinary.\\n\\nA creature, vaguely humanoid but adorned with shimmering scales and wings akin to a dragonfly’s, approaches you. It communicates not with words, but with melodic sounds and changing color patterns across its body. Somehow, you understand it is offering guidance, inviting you to follow. \\n\\nThrough winding streets and soaring archways, you traverse Zephyria. Each turn reveals new wonders: a marketplace where vendors sell luminous fruits and crystalline artifacts; a park filled with trees bearing glowing leaves and blossoms, radiating light like tiny stars; a grand amphitheater where harmonious tones fill the air, created by entities playing instruments resembling nothing you've seen before.\\n\\nYour guide leads you to a towering structure at the city's heart, the pinnacle disappearing into the swirling mists above. As you ascend, the city unfolds below in all its radiant glory. From this vantage point, Zephyria looks like a constellation fallen from the heavens, its brilliance undimmed.\\n\\nReaching the summit, you're greeted by a panorama of the cosmos. Stars twinkle like diamonds strewn across black velvet, galaxies swirl in distant corners, and comets streak across the vast expanse. Here, atop Zephyria, you stand at the precipice of infinity, feeling simultaneously insignificant and integral to the universe's grand tapestry.\\n\\nFinally, your guide beckons you towards a portal, shimmering like liquid silver. Stepping through, you feel a rush of cool air as you emerge onto a balcony jutting out into the void. Below, the city sparkles, while above, the cosmos stretches out endlessly. In this moment, suspended between the celestial city and the infinite universe, you experience a profound connection, a unity with everything that was, is, and will be.\\n\\nAs the reality of your journey settles in, you realize that Zephyria isn't just a city in the stars; it's a testament to imagination, a monument to the boundless potential of sentient beings. And even as you prepare to leave, stepping back onto the teleportation platform, you know that the memory of this ethereal city, hanging in the balance between dream and reality, will stay with you forever.\",\n",
              "   'role': 'assistant'},\n",
              "  {'content': 'Describe the unique methods of communication used by the humanoid creature in Zephyria, elaborating on how the color patterns and melodic sounds can convey complex ideas and emotions.',\n",
              "   'role': 'user'},\n",
              "  {'content': \"The Zephyrian humanoid communicates through a complex system that combines chromatics and sonics, a method that is as much an art form as it is a language. \\n\\nThe creature's body is covered in scales that can change color, similar to a chameleon, but far more advanced. These scales are capable of producing a wide spectrum of colors and patterns, each with its own unique meaning. Simple messages might be conveyed through a single hue, while more complex ideas are represented by intricate patterns that ripple across the creature's body. \\n\\nFor example, a pattern of spiraling blues and greens might indicate a philosophical discussion, with each shade and twist of the pattern adding nuances to the topic. Rapid shifts between warm and cool colors could represent a debate or disagreement, while a slow, rhythmic pulse of soft pastel colors might signify a casual, friendly conversation.\\n\\nThe melodic sounds the creature produces are equally important. These are not merely random notes, but carefully constructed melodies that carry meaning. Pitch, rhythm, and harmony all play a role in conveying information. A high, fast-paced melody might be used to express excitement or urgency, while a slow, low melody could indicate calm or sadness. \\n\\nMoreover, the creature can layer melodies to communicate complex emotions or ideas. For instance, a steady, rhythmic bass line might underlie a series of rapid, high-pitched notes, creating a melody that expresses the juxtaposition of stability and chaos.\\n\\nThe creature also uses silence effectively, creating pauses in its melodies to emphasize certain points or to allow its color patterns to convey more of the message. In this way, the creature's communication is a delicate balance of sound and color, each enhancing the other to create a rich, multifaceted language.\\n\\nWhile this form of communication may seem alien and complex, it has an inherent logic and beauty to it. Once understood, it offers a deep and nuanced way of expressing thoughts and emotions, making the interactions with these Zephyrian humanoids a truly unique experience.\",\n",
              "   'role': 'assistant'},\n",
              "  {'content': 'How does the Zephyrian humanoid perceive and interpret the color and sound patterns of its own species?',\n",
              "   'role': 'user'},\n",
              "  {'content': \"The Zephyrian humanoid's perception and interpretation of color and sound patterns are deeply entwined with their biological makeup and neural processing. From a physiological standpoint, these creatures have evolved to perceive a broader spectrum of light and sound waves compared to humans. Their eyes can detect frequencies of light that humans cannot, resulting in their ability to see and interpret the vast array of colors they use for communication.\\n\\nTheir auditory system, on the other hand, is tuned to a wider range of frequencies, allowing them to perceive and produce melodies that we may find metallic or shrill yet serve as powerful vehicles for communication in their society. Additionally, they possess an advanced neural network that is designed to decode these complex combinations of colors and sounds, translating them into a comprehensive understanding of emotions, ideas, and intentions.\\n\\nIn terms of interpreting these patterns, the Zephyrian humanoids use a sophisticated collection of neural pathways that enabling them to process the data received from their senses. Unlike humans who rely on verbal language to communicate abstract concepts and emotions, these creatures process information holistically, with color and sound patterns providing a rich tapestry of information.\\n\\nFor instance, a single shade of blue might convey a feeling of tranquility or signify a loved one, while a quick, sharp note could denote excitement or danger. The combination of these elements allows them to express and interpret an incredible range of human emotions and intellectual concepts, like a musician creating a symphony or a painter crafting a masterpiece.\\n\\nUnderstanding and interpreting these patterns is innate to them. They are born equipped with this ability, much like how humans learn to comprehend language from an early age. While their cognitive and neural processes may be different from ours, they experience and process these multi-sensory patterns in a way that's natural and intuitive to them. This capability is an integral part of their identity, shaping their culture, social dynamics, and daily interactions.\",\n",
              "   'role': 'assistant'}],\n",
              " 'rejected': [{'content': 'The setting is an otherworldly, yet eerily familiar, metropolis known as \"Zephyria.\" It\\'s a city suspended in the ether, floating amidst nebulous clouds of cosmic dust. The architecture here is surreal and alien, with buildings that twist and spiral like strands of DNA, reaching towards the cosmos. Streets are paved with luminescent cobblestones, casting soft hues of blues and purples, reflecting off iridescent structures. Strange vegetation, vibrant and bioluminescent, thrives everywhere, creating a stark contrast against the deep indigo sky.\\n\\nNow, immerse me in this ethereal journey through Zephyria.',\n",
              "   'role': 'user'},\n",
              "  {'content': \"As you step onto the teleportation platform, there's a momentary sense of disorientation before your surroundings change abruptly. You find yourself standing on the outskirts of Zephyria, gazing at the sprawling metropolis that glows softly under the starlit canvas above. A gentle breeze, carrying hints of exotic fragrances from unknown flora, greets you. \\n\\nYou begin to walk along the radiant pathway, each cobblestone pulsating beneath your feet, resonating with a rhythm that seems almost alive. The cityscape ahead shimmers with countless shades of sapphire, amethyst, and turquoise, their reflections dancing upon the glassy surfaces of the spiraling towers around you. The air vibrates subtly with an underlying hum, a symphony of unseen energy sources powering this celestial city.\\n\\nApproaching one of the spiraling edifices, you reach out to touch its surface. It feels unexpectedly warm, humming slightly under your fingertips. Its translucent walls ripple with colors, revealing glimpses of life within - shadowy figures moving about, engaging in activities that seem both mundane and extraordinary.\\n\\nA creature, vaguely humanoid but adorned with shimmering scales and wings akin to a dragonfly’s, approaches you. It communicates not with words, but with melodic sounds and changing color patterns across its body. Somehow, you understand it is offering guidance, inviting you to follow. \\n\\nThrough winding streets and soaring archways, you traverse Zephyria. Each turn reveals new wonders: a marketplace where vendors sell luminous fruits and crystalline artifacts; a park filled with trees bearing glowing leaves and blossoms, radiating light like tiny stars; a grand amphitheater where harmonious tones fill the air, created by entities playing instruments resembling nothing you've seen before.\\n\\nYour guide leads you to a towering structure at the city's heart, the pinnacle disappearing into the swirling mists above. As you ascend, the city unfolds below in all its radiant glory. From this vantage point, Zephyria looks like a constellation fallen from the heavens, its brilliance undimmed.\\n\\nReaching the summit, you're greeted by a panorama of the cosmos. Stars twinkle like diamonds strewn across black velvet, galaxies swirl in distant corners, and comets streak across the vast expanse. Here, atop Zephyria, you stand at the precipice of infinity, feeling simultaneously insignificant and integral to the universe's grand tapestry.\\n\\nFinally, your guide beckons you towards a portal, shimmering like liquid silver. Stepping through, you feel a rush of cool air as you emerge onto a balcony jutting out into the void. Below, the city sparkles, while above, the cosmos stretches out endlessly. In this moment, suspended between the celestial city and the infinite universe, you experience a profound connection, a unity with everything that was, is, and will be.\\n\\nAs the reality of your journey settles in, you realize that Zephyria isn't just a city in the stars; it's a testament to imagination, a monument to the boundless potential of sentient beings. And even as you prepare to leave, stepping back onto the teleportation platform, you know that the memory of this ethereal city, hanging in the balance between dream and reality, will stay with you forever.\",\n",
              "   'role': 'assistant'},\n",
              "  {'content': 'Describe the unique methods of communication used by the humanoid creature in Zephyria, elaborating on how the color patterns and melodic sounds can convey complex ideas and emotions.',\n",
              "   'role': 'user'},\n",
              "  {'content': \"The Zephyrian humanoid communicates through a complex system that combines chromatics and sonics, a method that is as much an art form as it is a language. \\n\\nThe creature's body is covered in scales that can change color, similar to a chameleon, but far more advanced. These scales are capable of producing a wide spectrum of colors and patterns, each with its own unique meaning. Simple messages might be conveyed through a single hue, while more complex ideas are represented by intricate patterns that ripple across the creature's body. \\n\\nFor example, a pattern of spiraling blues and greens might indicate a philosophical discussion, with each shade and twist of the pattern adding nuances to the topic. Rapid shifts between warm and cool colors could represent a debate or disagreement, while a slow, rhythmic pulse of soft pastel colors might signify a casual, friendly conversation.\\n\\nThe melodic sounds the creature produces are equally important. These are not merely random notes, but carefully constructed melodies that carry meaning. Pitch, rhythm, and harmony all play a role in conveying information. A high, fast-paced melody might be used to express excitement or urgency, while a slow, low melody could indicate calm or sadness. \\n\\nMoreover, the creature can layer melodies to communicate complex emotions or ideas. For instance, a steady, rhythmic bass line might underlie a series of rapid, high-pitched notes, creating a melody that expresses the juxtaposition of stability and chaos.\\n\\nThe creature also uses silence effectively, creating pauses in its melodies to emphasize certain points or to allow its color patterns to convey more of the message. In this way, the creature's communication is a delicate balance of sound and color, each enhancing the other to create a rich, multifaceted language.\\n\\nWhile this form of communication may seem alien and complex, it has an inherent logic and beauty to it. Once understood, it offers a deep and nuanced way of expressing thoughts and emotions, making the interactions with these Zephyrian humanoids a truly unique experience.\",\n",
              "   'role': 'assistant'},\n",
              "  {'content': 'How does the Zephyrian humanoid perceive and interpret the color and sound patterns of its own species?',\n",
              "   'role': 'user'},\n",
              "  {'content': \"The Zephyrian humanoid possesses a highly developed sensory system that allows it to perceive and interpret the color and sound patterns produced by its own species. \\n\\nFor color patterns, the creature's eyes are far more advanced than human eyes. They can perceive a wider spectrum of colors, including ultraviolet and infrared, and are capable of detecting minute changes in hue and pattern. This allows them to interpret the complex color displays produced by their scales. \\n\\nMoreover, their brains are wired to process these visual signals in a way that is fundamentally different from humans. Where we see color as a static property, they perceive it as a dynamic, ever-changing aspect of their environment. They are capable of discerning subtle shifts in color and pattern that convey a wealth of information, from the emotional state of the individual to the intricacies of abstract concepts.\\n\\nAs for sound patterns, the creature's auditory system is equally advanced. They can hear a broader range of frequencies than humans, and their brains are capable of analyzing the complex melodies produced by their species. They can discern the pitch, rhythm, and harmony of these melodies, interpreting them as distinct 'words' or 'phrases' in their language.\\n\\nIn addition, the creature's auditory and visual senses are closely linked, allowing it to process color and sound patterns simultaneously. This sensory integration enables the creature to understand the full depth and complexity of its species' communication, as each melody enhances the meaning of the color patterns, and vice versa.\\n\\nInterestingly, this form of communication also has a strong emotional component. The creature doesn't just understand the literal meaning of the color and sound patterns; it also experiences an emotional response to them. A soothing melody accompanied by soft, cool colors might evoke a sense of calm, while a rapid, high-pitched melody with bright, flashing colors could induce excitement or alarm.\\n\\nIn this way, the Zephyrian humanoid's perception of its own species' communication is not just a cognitive process, but an emotional and sensory experience that encompasses a wide range of stimuli and responses.\",\n",
              "   'role': 'assistant'}],\n",
              " 'prompt': 'The setting is an otherworldly, yet eerily familiar, metropolis known as \"Zephyria.\" It\\'s a city suspended in the ether, floating amidst nebulous clouds of cosmic dust. The architecture here is surreal and alien, with buildings that twist and spiral like strands of DNA, reaching towards the cosmos. Streets are paved with luminescent cobblestones, casting soft hues of blues and purples, reflecting off iridescent structures. Strange vegetation, vibrant and bioluminescent, thrives everywhere, creating a stark contrast against the deep indigo sky.\\n\\nNow, immerse me in this ethereal journey through Zephyria.',\n",
              " 'question': 'The setting is an otherworldly, yet eerily familiar, metropolis known as \"Zephyria.\" It\\'s a city suspended in the ether, floating amidst nebulous clouds of cosmic dust. The architecture here is surreal and alien, with buildings that twist and spiral like strands of DNA, reaching towards the cosmos. Streets are paved with luminescent cobblestones, casting soft hues of blues and purples, reflecting off iridescent structures. Strange vegetation, vibrant and bioluminescent, thrives everywhere, creating a stark contrast against the deep indigo sky.\\n\\nNow, immerse me in this ethereal journey through Zephyria.'}"
            ]
          },
          "metadata": {},
          "execution_count": 5
        }
      ],
      "source": [
        "dataset[\"train\"][0]"
      ]
    },
    {
      "source": [
        "# Apply shuffle and select to the 'train' split\n",
        "dataset['train'] = dataset['train'].shuffle(seed=42).select(range(100))\n",
        "\n"
      ],
      "cell_type": "code",
      "metadata": {
        "id": "2JDpdxX7HaPd"
      },
      "execution_count": null,
      "outputs": []
    },
    {
      "cell_type": "code",
      "execution_count": null,
      "metadata": {
        "id": "nkZMWfEmHK-P"
      },
      "outputs": [],
      "source": [
        "import torch\n",
        "from datasets import load_dataset\n",
        "from transformers import AutoModelForCausalLM, AutoTokenizer, TrainingArguments\n",
        "from peft import LoraConfig, get_peft_model, PeftModel\n",
        "from trl import ORPOTrainer, ORPOConfig, setup_chat_format\n",
        "\n",
        "\n",
        "# Choose a base model\n",
        "model_name = \"meta-llama/Llama-3.2-1B-Instruct\"  # or any other suitable model like \"EleutherAI/gpt-neo-1.3B\"\n",
        "\n",
        "\n",
        "# Load model and tokenizer\n",
        "model = AutoModelForCausalLM.from_pretrained(model_name)\n",
        "tokenizer = AutoTokenizer.from_pretrained(model_name)\n",
        "\n",
        "# Set padding token\n",
        "if tokenizer.pad_token is None:\n",
        "    tokenizer.pad_token = tokenizer.eos_token\n",
        "    model.config.pad_token_id = model.config.eos_token_id\n",
        "\n",
        "# Define LoRA configuration\n",
        "lora_config = LoraConfig(\n",
        "    r=16,\n",
        "    lora_alpha=32,\n",
        "    lora_dropout=0.05,\n",
        "    bias=\"none\",\n",
        "    task_type=\"CAUSAL_LM\"\n",
        "\n",
        ")\n",
        "\n",
        "# Apply LoRA to the model\n",
        "model = get_peft_model(model, lora_config)"
      ]
    },
    {
      "cell_type": "code",
      "execution_count": null,
      "metadata": {
        "id": "GTIAzjTZogY-"
      },
      "outputs": [],
      "source": [
        "# Define max length\n",
        "max_length = 2048  # or whatever your model's maximum is\n",
        "\n",
        "def preprocess_dataset(example):\n",
        "    tokenizer.truncation_side = \"left\"  # or \"right\", depending on your preference\n",
        "\n",
        "    prompt = tokenizer.encode(example['prompt'], truncation=True, max_length=max_length)\n",
        "    chosen_content = example['chosen'][0]['content'] if example['chosen'] else \"\"\n",
        "    rejected_content = example['rejected'][0]['content'] if example['rejected'] else \"\"\n",
        "\n",
        "    chosen = tokenizer.encode(chosen_content, truncation=True, max_length=max_length)\n",
        "    rejected = tokenizer.encode(rejected_content, truncation=True, max_length=max_length)\n",
        "\n",
        "    return {\n",
        "        \"prompt\": tokenizer.decode(prompt),\n",
        "        \"chosen\": tokenizer.decode(chosen),\n",
        "        \"rejected\": tokenizer.decode(rejected)\n",
        "    }\n",
        "\n",
        "# Apply the preprocessing to your dataset\n",
        "preprocessed_dataset = dataset['train'].map(preprocess_dataset)"
      ]
    },
    {
      "cell_type": "code",
      "execution_count": null,
      "metadata": {
        "colab": {
          "base_uri": "https://localhost:8080/",
          "height": 565
        },
        "id": "2qmauUQ9lart",
        "outputId": "10fd1cfd-5b9d-416c-be98-ede9deb80cf4"
      },
      "outputs": [
        {
          "output_type": "stream",
          "name": "stderr",
          "text": [
            "/usr/local/lib/python3.10/dist-packages/accelerate/accelerator.py:494: FutureWarning: `torch.cuda.amp.GradScaler(args...)` is deprecated. Please use `torch.amp.GradScaler('cuda', args...)` instead.\n",
            "  self.scaler = torch.cuda.amp.GradScaler(**kwargs)\n",
            "max_steps is given, it will override any value given in num_train_epochs\n",
            "/usr/local/lib/python3.10/dist-packages/torch/autograd/graph.py:825: UserWarning: cuDNN SDPA backward got grad_output.strides() != output.strides(), attempting to materialize a grad_output with matching strides... (Triggered internally at ../aten/src/ATen/native/cudnn/MHA.cpp:674.)\n",
            "  return Variable._execution_engine.run_backward(  # Calls into the C++ engine to run the backward pass\n",
            "Could not estimate the number of tokens of the input, floating-point operations will not be computed\n"
          ]
        },
        {
          "output_type": "display_data",
          "data": {
            "text/plain": [
              "<IPython.core.display.HTML object>"
            ],
            "text/html": [
              "\n",
              "    <div>\n",
              "      \n",
              "      <progress value='100' max='100' style='width:300px; height:20px; vertical-align: middle;'></progress>\n",
              "      [100/100 05:48, Epoch 16/17]\n",
              "    </div>\n",
              "    <table border=\"1\" class=\"dataframe\">\n",
              "  <thead>\n",
              " <tr style=\"text-align: left;\">\n",
              "      <th>Step</th>\n",
              "      <th>Training Loss</th>\n",
              "    </tr>\n",
              "  </thead>\n",
              "  <tbody>\n",
              "    <tr>\n",
              "      <td>10</td>\n",
              "      <td>7.949500</td>\n",
              "    </tr>\n",
              "    <tr>\n",
              "      <td>20</td>\n",
              "      <td>8.088500</td>\n",
              "    </tr>\n",
              "    <tr>\n",
              "      <td>30</td>\n",
              "      <td>7.898100</td>\n",
              "    </tr>\n",
              "    <tr>\n",
              "      <td>40</td>\n",
              "      <td>8.105700</td>\n",
              "    </tr>\n",
              "    <tr>\n",
              "      <td>50</td>\n",
              "      <td>7.829100</td>\n",
              "    </tr>\n",
              "    <tr>\n",
              "      <td>60</td>\n",
              "      <td>8.091500</td>\n",
              "    </tr>\n",
              "    <tr>\n",
              "      <td>70</td>\n",
              "      <td>7.781500</td>\n",
              "    </tr>\n",
              "    <tr>\n",
              "      <td>80</td>\n",
              "      <td>7.587100</td>\n",
              "    </tr>\n",
              "    <tr>\n",
              "      <td>90</td>\n",
              "      <td>7.820700</td>\n",
              "    </tr>\n",
              "    <tr>\n",
              "      <td>100</td>\n",
              "      <td>7.922900</td>\n",
              "    </tr>\n",
              "  </tbody>\n",
              "</table><p>"
            ]
          },
          "metadata": {}
        },
        {
          "output_type": "execute_result",
          "data": {
            "text/plain": [
              "('./final_model/tokenizer_config.json',\n",
              " './final_model/special_tokens_map.json',\n",
              " './final_model/tokenizer.json')"
            ]
          },
          "metadata": {},
          "execution_count": 10
        }
      ],
      "source": [
        "# Define ORPO configuration\n",
        "orpo_config = ORPOConfig(\n",
        "    learning_rate=1e-5,\n",
        "    per_device_train_batch_size=4,\n",
        "    gradient_accumulation_steps=4,\n",
        "    max_steps=100,\n",
        "    warmup_steps=10,\n",
        "    gradient_checkpointing=True,\n",
        "    fp16=True,\n",
        "    logging_steps=10,\n",
        "    output_dir=\"./orpo_output\",\n",
        "    optim=\"adamw_torch\",\n",
        "    remove_unused_columns=False,\n",
        "    max_length=max_length,\n",
        "    max_prompt_length=512,\n",
        "    report_to=\"none\",\n",
        ")\n",
        "\n",
        "# Initialize ORPOTrainer\n",
        "trainer = ORPOTrainer(\n",
        "    model=model,\n",
        "    args=orpo_config,\n",
        "    peft_config=lora_config,\n",
        "    # train_dataset=preprocessed_dataset[\"train\"],\n",
        "    train_dataset=preprocessed_dataset,\n",
        "    processing_class=tokenizer,\n",
        "\n",
        ")\n",
        "\n",
        "# Train the model\n",
        "trainer.train()\n",
        "\n",
        "# Save the final model\n",
        "model.save_pretrained(\"./final_model\")\n",
        "tokenizer.save_pretrained(\"./final_model\")"
      ]
    },
    {
      "cell_type": "code",
      "execution_count": null,
      "metadata": {
        "id": "0XMhD7f397tP",
        "colab": {
          "base_uri": "https://localhost:8080/"
        },
        "outputId": "322fad30-c90f-4f1f-a159-fff3a277158d"
      },
      "outputs": [
        {
          "output_type": "stream",
          "name": "stdout",
          "text": [
            "Loading base model: meta-llama/Llama-3.2-1B-Instruct\n",
            "Loading LoRA model from: ./orpo_output/checkpoint-100\n",
            "Merging model weights...\n",
            "Saving merged model to: ./merged_model\n",
            "Model merging complete!\n",
            "\n",
            "Model merged successfully!\n"
          ]
        },
        {
          "output_type": "stream",
          "name": "stderr",
          "text": [
            "Setting `pad_token_id` to `eos_token_id`:None for open-end generation.\n"
          ]
        },
        {
          "output_type": "stream",
          "name": "stdout",
          "text": [
            "\n",
            "Test output:\n",
            "Once Upon a time, there was a frog... who was not a frog. He was a curious and adventurous young man named Jack, who lived in a small village surrounded by lush green forests and sparkling rivers. Jack was a bit of an outcast among his peers, as he was always fascinated by\n"
          ]
        }
      ],
      "source": [
        "# Merge base model with LoRA\n",
        "def merge_lora_with_base_model(\n",
        "    base_model_name: str,\n",
        "    lora_model_path: str,\n",
        "    output_path: str\n",
        "):\n",
        "    \"\"\"\n",
        "    Merge a LoRA model with its base model and save the resulting full model.\n",
        "\n",
        "    Args:\n",
        "        base_model_name (str): Name or path of the base model\n",
        "        lora_model_path (str): Path to the trained LoRA model\n",
        "        output_path (str): Where to save the merged model\n",
        "    \"\"\"\n",
        "    print(f\"Loading base model: {base_model_name}\")\n",
        "    base_model = AutoModelForCausalLM.from_pretrained(\n",
        "        base_model_name,\n",
        "        torch_dtype=torch.float16,\n",
        "        device_map=\"auto\"\n",
        "    )\n",
        "\n",
        "    print(f\"Loading LoRA model from: {lora_model_path}\")\n",
        "    model = PeftModel.from_pretrained(\n",
        "        base_model,\n",
        "        lora_model_path,\n",
        "        torch_dtype=torch.float16,\n",
        "        device_map=\"auto\"\n",
        "    )\n",
        "\n",
        "    print(\"Merging model weights...\")\n",
        "    model = model.merge_and_unload()\n",
        "\n",
        "    print(f\"Saving merged model to: {output_path}\")\n",
        "    model.save_pretrained(output_path)\n",
        "\n",
        "    # Save tokenizer alongside the model\n",
        "    tokenizer = AutoTokenizer.from_pretrained(base_model_name)\n",
        "    tokenizer.save_pretrained(output_path)\n",
        "\n",
        "    print(\"Model merging complete!\")\n",
        "    return model\n",
        "\n",
        "# Direct execution for Colab\n",
        "# Using the same model name from your training code\n",
        "BASE_MODEL_NAME = \"meta-llama/Llama-3.2-1B-Instruct\"\n",
        "\n",
        "# This should be the path where your LoRA model was saved\n",
        "# In your training code, this was \"./orpo_output\"\n",
        "LORA_PATH = \"./orpo_output/checkpoint-100\"\n",
        "\n",
        "# Where to save the merged model\n",
        "OUTPUT_PATH = \"./merged_model\"\n",
        "\n",
        "try:\n",
        "    merged_model = merge_lora_with_base_model(\n",
        "        base_model_name=BASE_MODEL_NAME,\n",
        "        lora_model_path=LORA_PATH,\n",
        "        output_path=OUTPUT_PATH\n",
        "    )\n",
        "    print(\"\\nModel merged successfully!\")\n",
        "\n",
        "    # Optional: Test the merged model\n",
        "    tokenizer = AutoTokenizer.from_pretrained(OUTPUT_PATH)\n",
        "    test_input = \"Once Upon a time, there was a frog ...\"\n",
        "    inputs = tokenizer(test_input, return_tensors=\"pt\").to(merged_model.device)\n",
        "\n",
        "    with torch.no_grad():\n",
        "        outputs = merged_model.generate(\n",
        "            **inputs,\n",
        "            max_length=50,\n",
        "            num_return_sequences=1,\n",
        "            temperature=0.7\n",
        "        )\n",
        "\n",
        "    print(\"\\nTest output:\")\n",
        "    print(tokenizer.decode(outputs[0], skip_special_tokens=True))\n",
        "\n",
        "except Exception as e:\n",
        "    print(f\"An error occurred during model merging: {str(e)}\")"
      ]
    },
    {
      "cell_type": "code",
      "execution_count": null,
      "metadata": {
        "id": "DlFV87f4wNa7",
        "colab": {
          "base_uri": "https://localhost:8080/"
        },
        "outputId": "3dc44e80-91ef-4293-d32f-097863e5caa5"
      },
      "outputs": [
        {
          "output_type": "stream",
          "name": "stdout",
          "text": [
            "Obtaining file:///content/lm-evaluation-harness\n",
            "  Installing build dependencies: started\n",
            "  Installing build dependencies: finished with status 'done'\n",
            "  Checking if build backend supports build_editable: started\n",
            "  Checking if build backend supports build_editable: finished with status 'done'\n",
            "  Getting requirements to build editable: started\n",
            "  Getting requirements to build editable: finished with status 'done'\n",
            "  Preparing editable metadata (pyproject.toml): started\n",
            "  Preparing editable metadata (pyproject.toml): finished with status 'done'\n",
            "Requirement already satisfied: accelerate>=0.26.0 in /usr/local/lib/python3.10/dist-packages (from lm_eval==0.4.5) (0.34.2)\n",
            "Collecting evaluate (from lm_eval==0.4.5)\n",
            "  Downloading evaluate-0.4.3-py3-none-any.whl.metadata (9.2 kB)\n",
            "Requirement already satisfied: datasets>=2.16.0 in /usr/local/lib/python3.10/dist-packages (from lm_eval==0.4.5) (3.0.2)\n",
            "Collecting jsonlines (from lm_eval==0.4.5)\n",
            "  Downloading jsonlines-4.0.0-py3-none-any.whl.metadata (1.6 kB)\n",
            "Requirement already satisfied: numexpr in /usr/local/lib/python3.10/dist-packages (from lm_eval==0.4.5) (2.10.1)\n",
            "Requirement already satisfied: peft>=0.2.0 in /usr/local/lib/python3.10/dist-packages (from lm_eval==0.4.5) (0.13.2)\n",
            "Collecting pybind11>=2.6.2 (from lm_eval==0.4.5)\n",
            "  Downloading pybind11-2.13.6-py3-none-any.whl.metadata (9.5 kB)\n",
            "Collecting pytablewriter (from lm_eval==0.4.5)\n",
            "  Downloading pytablewriter-1.2.0-py3-none-any.whl.metadata (37 kB)\n",
            "Collecting rouge-score>=0.0.4 (from lm_eval==0.4.5)\n",
            "  Downloading rouge_score-0.1.2.tar.gz (17 kB)\n",
            "  Preparing metadata (setup.py): started\n",
            "  Preparing metadata (setup.py): finished with status 'done'\n",
            "Collecting sacrebleu>=1.5.0 (from lm_eval==0.4.5)\n",
            "  Downloading sacrebleu-2.4.3-py3-none-any.whl.metadata (51 kB)\n",
            "     ━━━━━━━━━━━━━━━━━━━━━━━━━━━━━━━━━━━━━━━━ 51.8/51.8 kB 5.1 MB/s eta 0:00:00\n",
            "Requirement already satisfied: scikit-learn>=0.24.1 in /usr/local/lib/python3.10/dist-packages (from lm_eval==0.4.5) (1.5.2)\n",
            "Collecting sqlitedict (from lm_eval==0.4.5)\n",
            "  Downloading sqlitedict-2.1.0.tar.gz (21 kB)\n",
            "  Preparing metadata (setup.py): started\n",
            "  Preparing metadata (setup.py): finished with status 'done'\n",
            "Requirement already satisfied: torch>=1.8 in /usr/local/lib/python3.10/dist-packages (from lm_eval==0.4.5) (2.5.0+cu121)\n",
            "Collecting tqdm-multiprocess (from lm_eval==0.4.5)\n",
            "  Downloading tqdm_multiprocess-0.0.11-py3-none-any.whl.metadata (5.7 kB)\n",
            "Requirement already satisfied: transformers>=4.1 in /usr/local/lib/python3.10/dist-packages (from lm_eval==0.4.5) (4.47.0.dev0)\n",
            "Collecting zstandard (from lm_eval==0.4.5)\n",
            "  Downloading zstandard-0.23.0-cp310-cp310-manylinux_2_17_x86_64.manylinux2014_x86_64.whl.metadata (3.0 kB)\n",
            "Requirement already satisfied: dill in /usr/local/lib/python3.10/dist-packages (from lm_eval==0.4.5) (0.3.8)\n",
            "Collecting word2number (from lm_eval==0.4.5)\n",
            "  Downloading word2number-1.1.zip (9.7 kB)\n",
            "  Preparing metadata (setup.py): started\n",
            "  Preparing metadata (setup.py): finished with status 'done'\n",
            "Requirement already satisfied: more-itertools in /usr/local/lib/python3.10/dist-packages (from lm_eval==0.4.5) (10.5.0)\n",
            "Requirement already satisfied: numpy<3.0.0,>=1.17 in /usr/local/lib/python3.10/dist-packages (from accelerate>=0.26.0->lm_eval==0.4.5) (1.26.4)\n",
            "Requirement already satisfied: packaging>=20.0 in /usr/local/lib/python3.10/dist-packages (from accelerate>=0.26.0->lm_eval==0.4.5) (24.1)\n",
            "Requirement already satisfied: psutil in /usr/local/lib/python3.10/dist-packages (from accelerate>=0.26.0->lm_eval==0.4.5) (5.9.5)\n",
            "Requirement already satisfied: pyyaml in /usr/local/lib/python3.10/dist-packages (from accelerate>=0.26.0->lm_eval==0.4.5) (6.0.2)\n",
            "Requirement already satisfied: huggingface-hub>=0.21.0 in /usr/local/lib/python3.10/dist-packages (from accelerate>=0.26.0->lm_eval==0.4.5) (0.24.7)\n",
            "Requirement already satisfied: safetensors>=0.4.3 in /usr/local/lib/python3.10/dist-packages (from accelerate>=0.26.0->lm_eval==0.4.5) (0.4.5)\n",
            "Requirement already satisfied: filelock in /usr/local/lib/python3.10/dist-packages (from datasets>=2.16.0->lm_eval==0.4.5) (3.16.1)\n",
            "Requirement already satisfied: pyarrow>=15.0.0 in /usr/local/lib/python3.10/dist-packages (from datasets>=2.16.0->lm_eval==0.4.5) (16.1.0)\n",
            "Requirement already satisfied: pandas in /usr/local/lib/python3.10/dist-packages (from datasets>=2.16.0->lm_eval==0.4.5) (2.2.2)\n",
            "Requirement already satisfied: requests>=2.32.2 in /usr/local/lib/python3.10/dist-packages (from datasets>=2.16.0->lm_eval==0.4.5) (2.32.3)\n",
            "Requirement already satisfied: tqdm>=4.66.3 in /usr/local/lib/python3.10/dist-packages (from datasets>=2.16.0->lm_eval==0.4.5) (4.66.5)\n",
            "Requirement already satisfied: xxhash in /usr/local/lib/python3.10/dist-packages (from datasets>=2.16.0->lm_eval==0.4.5) (3.5.0)\n",
            "Requirement already satisfied: multiprocess<0.70.17 in /usr/local/lib/python3.10/dist-packages (from datasets>=2.16.0->lm_eval==0.4.5) (0.70.16)\n",
            "Requirement already satisfied: fsspec<=2024.9.0,>=2023.1.0 in /usr/local/lib/python3.10/dist-packages (from fsspec[http]<=2024.9.0,>=2023.1.0->datasets>=2.16.0->lm_eval==0.4.5) (2024.6.1)\n",
            "Requirement already satisfied: aiohttp in /usr/local/lib/python3.10/dist-packages (from datasets>=2.16.0->lm_eval==0.4.5) (3.10.10)\n",
            "Requirement already satisfied: absl-py in /usr/local/lib/python3.10/dist-packages (from rouge-score>=0.0.4->lm_eval==0.4.5) (1.4.0)\n",
            "Requirement already satisfied: nltk in /usr/local/lib/python3.10/dist-packages (from rouge-score>=0.0.4->lm_eval==0.4.5) (3.8.1)\n",
            "Requirement already satisfied: six>=1.14.0 in /usr/local/lib/python3.10/dist-packages (from rouge-score>=0.0.4->lm_eval==0.4.5) (1.16.0)\n",
            "Collecting portalocker (from sacrebleu>=1.5.0->lm_eval==0.4.5)\n",
            "  Downloading portalocker-2.10.1-py3-none-any.whl.metadata (8.5 kB)\n",
            "Requirement already satisfied: regex in /usr/local/lib/python3.10/dist-packages (from sacrebleu>=1.5.0->lm_eval==0.4.5) (2024.9.11)\n",
            "Requirement already satisfied: tabulate>=0.8.9 in /usr/local/lib/python3.10/dist-packages (from sacrebleu>=1.5.0->lm_eval==0.4.5) (0.9.0)\n",
            "Collecting colorama (from sacrebleu>=1.5.0->lm_eval==0.4.5)\n",
            "  Downloading colorama-0.4.6-py2.py3-none-any.whl.metadata (17 kB)\n",
            "Requirement already satisfied: lxml in /usr/local/lib/python3.10/dist-packages (from sacrebleu>=1.5.0->lm_eval==0.4.5) (4.9.4)\n",
            "Requirement already satisfied: scipy>=1.6.0 in /usr/local/lib/python3.10/dist-packages (from scikit-learn>=0.24.1->lm_eval==0.4.5) (1.13.1)\n",
            "Requirement already satisfied: joblib>=1.2.0 in /usr/local/lib/python3.10/dist-packages (from scikit-learn>=0.24.1->lm_eval==0.4.5) (1.4.2)\n",
            "Requirement already satisfied: threadpoolctl>=3.1.0 in /usr/local/lib/python3.10/dist-packages (from scikit-learn>=0.24.1->lm_eval==0.4.5) (3.5.0)\n",
            "Requirement already satisfied: typing-extensions>=4.8.0 in /usr/local/lib/python3.10/dist-packages (from torch>=1.8->lm_eval==0.4.5) (4.12.2)\n",
            "Requirement already satisfied: networkx in /usr/local/lib/python3.10/dist-packages (from torch>=1.8->lm_eval==0.4.5) (3.4.2)\n",
            "Requirement already satisfied: jinja2 in /usr/local/lib/python3.10/dist-packages (from torch>=1.8->lm_eval==0.4.5) (3.1.4)\n",
            "Requirement already satisfied: sympy==1.13.1 in /usr/local/lib/python3.10/dist-packages (from torch>=1.8->lm_eval==0.4.5) (1.13.1)\n",
            "Requirement already satisfied: mpmath<1.4,>=1.1.0 in /usr/local/lib/python3.10/dist-packages (from sympy==1.13.1->torch>=1.8->lm_eval==0.4.5) (1.3.0)\n",
            "Requirement already satisfied: tokenizers<0.21,>=0.20 in /usr/local/lib/python3.10/dist-packages (from transformers>=4.1->lm_eval==0.4.5) (0.20.1)\n",
            "Requirement already satisfied: attrs>=19.2.0 in /usr/local/lib/python3.10/dist-packages (from jsonlines->lm_eval==0.4.5) (24.2.0)\n",
            "Requirement already satisfied: setuptools>=38.3.0 in /usr/local/lib/python3.10/dist-packages (from pytablewriter->lm_eval==0.4.5) (75.1.0)\n",
            "Collecting DataProperty<2,>=1.0.1 (from pytablewriter->lm_eval==0.4.5)\n",
            "  Downloading DataProperty-1.0.1-py3-none-any.whl.metadata (11 kB)\n",
            "Collecting mbstrdecoder<2,>=1.0.0 (from pytablewriter->lm_eval==0.4.5)\n",
            "  Downloading mbstrdecoder-1.1.3-py3-none-any.whl.metadata (4.0 kB)\n",
            "Collecting pathvalidate<4,>=2.3.0 (from pytablewriter->lm_eval==0.4.5)\n",
            "  Downloading pathvalidate-3.2.1-py3-none-any.whl.metadata (12 kB)\n",
            "Collecting tabledata<2,>=1.3.1 (from pytablewriter->lm_eval==0.4.5)\n",
            "  Downloading tabledata-1.3.3-py3-none-any.whl.metadata (3.7 kB)\n",
            "Collecting tcolorpy<1,>=0.0.5 (from pytablewriter->lm_eval==0.4.5)\n",
            "  Downloading tcolorpy-0.1.6-py3-none-any.whl.metadata (6.4 kB)\n",
            "Collecting typepy<2,>=1.3.2 (from typepy[datetime]<2,>=1.3.2->pytablewriter->lm_eval==0.4.5)\n",
            "  Downloading typepy-1.3.2-py3-none-any.whl.metadata (9.3 kB)\n",
            "Requirement already satisfied: aiohappyeyeballs>=2.3.0 in /usr/local/lib/python3.10/dist-packages (from aiohttp->datasets>=2.16.0->lm_eval==0.4.5) (2.4.3)\n",
            "Requirement already satisfied: aiosignal>=1.1.2 in /usr/local/lib/python3.10/dist-packages (from aiohttp->datasets>=2.16.0->lm_eval==0.4.5) (1.3.1)\n",
            "Requirement already satisfied: frozenlist>=1.1.1 in /usr/local/lib/python3.10/dist-packages (from aiohttp->datasets>=2.16.0->lm_eval==0.4.5) (1.4.1)\n",
            "Requirement already satisfied: multidict<7.0,>=4.5 in /usr/local/lib/python3.10/dist-packages (from aiohttp->datasets>=2.16.0->lm_eval==0.4.5) (6.1.0)\n",
            "Requirement already satisfied: yarl<2.0,>=1.12.0 in /usr/local/lib/python3.10/dist-packages (from aiohttp->datasets>=2.16.0->lm_eval==0.4.5) (1.16.0)\n",
            "Requirement already satisfied: async-timeout<5.0,>=4.0 in /usr/local/lib/python3.10/dist-packages (from aiohttp->datasets>=2.16.0->lm_eval==0.4.5) (4.0.3)\n",
            "Requirement already satisfied: chardet<6,>=3.0.4 in /usr/local/lib/python3.10/dist-packages (from mbstrdecoder<2,>=1.0.0->pytablewriter->lm_eval==0.4.5) (5.2.0)\n",
            "Requirement already satisfied: charset-normalizer<4,>=2 in /usr/local/lib/python3.10/dist-packages (from requests>=2.32.2->datasets>=2.16.0->lm_eval==0.4.5) (3.4.0)\n",
            "Requirement already satisfied: idna<4,>=2.5 in /usr/local/lib/python3.10/dist-packages (from requests>=2.32.2->datasets>=2.16.0->lm_eval==0.4.5) (3.10)\n",
            "Requirement already satisfied: urllib3<3,>=1.21.1 in /usr/local/lib/python3.10/dist-packages (from requests>=2.32.2->datasets>=2.16.0->lm_eval==0.4.5) (2.2.3)\n",
            "Requirement already satisfied: certifi>=2017.4.17 in /usr/local/lib/python3.10/dist-packages (from requests>=2.32.2->datasets>=2.16.0->lm_eval==0.4.5) (2024.8.30)\n",
            "Requirement already satisfied: python-dateutil<3.0.0,>=2.8.0 in /usr/local/lib/python3.10/dist-packages (from typepy[datetime]<2,>=1.3.2->pytablewriter->lm_eval==0.4.5) (2.8.2)\n",
            "Requirement already satisfied: pytz>=2018.9 in /usr/local/lib/python3.10/dist-packages (from typepy[datetime]<2,>=1.3.2->pytablewriter->lm_eval==0.4.5) (2024.2)\n",
            "Requirement already satisfied: MarkupSafe>=2.0 in /usr/local/lib/python3.10/dist-packages (from jinja2->torch>=1.8->lm_eval==0.4.5) (3.0.2)\n",
            "Requirement already satisfied: click in /usr/local/lib/python3.10/dist-packages (from nltk->rouge-score>=0.0.4->lm_eval==0.4.5) (8.1.7)\n",
            "Requirement already satisfied: tzdata>=2022.7 in /usr/local/lib/python3.10/dist-packages (from pandas->datasets>=2.16.0->lm_eval==0.4.5) (2024.2)\n",
            "Requirement already satisfied: propcache>=0.2.0 in /usr/local/lib/python3.10/dist-packages (from yarl<2.0,>=1.12.0->aiohttp->datasets>=2.16.0->lm_eval==0.4.5) (0.2.0)\n",
            "Downloading evaluate-0.4.3-py3-none-any.whl (84 kB)\n",
            "   ━━━━━━━━━━━━━━━━━━━━━━━━━━━━━━━━━━━━━━━━ 84.0/84.0 kB 8.3 MB/s eta 0:00:00\n",
            "Downloading pybind11-2.13.6-py3-none-any.whl (243 kB)\n",
            "   ━━━━━━━━━━━━━━━━━━━━━━━━━━━━━━━━━━━━━━━━ 243.3/243.3 kB 22.6 MB/s eta 0:00:00\n",
            "Downloading sacrebleu-2.4.3-py3-none-any.whl (103 kB)\n",
            "   ━━━━━━━━━━━━━━━━━━━━━━━━━━━━━━━━━━━━━━━━ 104.0/104.0 kB 10.5 MB/s eta 0:00:00\n",
            "Downloading jsonlines-4.0.0-py3-none-any.whl (8.7 kB)\n",
            "Downloading pytablewriter-1.2.0-py3-none-any.whl (111 kB)\n",
            "   ━━━━━━━━━━━━━━━━━━━━━━━━━━━━━━━━━━━━━━━━ 111.1/111.1 kB 10.7 MB/s eta 0:00:00\n",
            "Downloading tqdm_multiprocess-0.0.11-py3-none-any.whl (9.8 kB)\n",
            "Downloading zstandard-0.23.0-cp310-cp310-manylinux_2_17_x86_64.manylinux2014_x86_64.whl (5.4 MB)\n",
            "   ━━━━━━━━━━━━━━━━━━━━━━━━━━━━━━━━━━━━━━━━ 5.4/5.4 MB 102.2 MB/s eta 0:00:00\n",
            "Downloading DataProperty-1.0.1-py3-none-any.whl (27 kB)\n",
            "Downloading mbstrdecoder-1.1.3-py3-none-any.whl (7.8 kB)\n",
            "Downloading pathvalidate-3.2.1-py3-none-any.whl (23 kB)\n",
            "Downloading tabledata-1.3.3-py3-none-any.whl (11 kB)\n",
            "Downloading tcolorpy-0.1.6-py3-none-any.whl (8.1 kB)\n",
            "Downloading typepy-1.3.2-py3-none-any.whl (31 kB)\n",
            "Downloading colorama-0.4.6-py2.py3-none-any.whl (25 kB)\n",
            "Downloading portalocker-2.10.1-py3-none-any.whl (18 kB)\n",
            "Building wheels for collected packages: lm_eval, rouge-score, sqlitedict, word2number\n",
            "  Building editable for lm_eval (pyproject.toml): started\n",
            "  Building editable for lm_eval (pyproject.toml): finished with status 'done'\n",
            "  Created wheel for lm_eval: filename=lm_eval-0.4.5-0.editable-py3-none-any.whl size=19395 sha256=c9ebdb4a8457c0fd7f2a20cc1bdf20c2a07298e54f9e3d8c8e1bac69aa3c103c\n",
            "  Stored in directory: /tmp/pip-ephem-wheel-cache-9o0lnzxl/wheels/dc/8d/a0/ce1a137b6a29fcf5007da91566ee423695e01d20703991091d\n",
            "  Building wheel for rouge-score (setup.py): started\n",
            "  Building wheel for rouge-score (setup.py): finished with status 'done'\n",
            "  Created wheel for rouge-score: filename=rouge_score-0.1.2-py3-none-any.whl size=24935 sha256=c4c7c7b550818a6bf5f86e144893171e7f1f836bf5b59b87c81067ed496d70a1\n",
            "  Stored in directory: /root/.cache/pip/wheels/5f/dd/89/461065a73be61a532ff8599a28e9beef17985c9e9c31e541b4\n",
            "  Building wheel for sqlitedict (setup.py): started\n",
            "  Building wheel for sqlitedict (setup.py): finished with status 'done'\n",
            "  Created wheel for sqlitedict: filename=sqlitedict-2.1.0-py3-none-any.whl size=16864 sha256=93f3ff3d0e4e2c36542d317d2bae9b876d5c6dc09955e44917f7f7ebd65bbafd\n",
            "  Stored in directory: /root/.cache/pip/wheels/79/d6/e7/304e0e6cb2221022c26d8161f7c23cd4f259a9e41e8bbcfabd\n",
            "  Building wheel for word2number (setup.py): started\n",
            "  Building wheel for word2number (setup.py): finished with status 'done'\n",
            "  Created wheel for word2number: filename=word2number-1.1-py3-none-any.whl size=5568 sha256=5629a3d14fdd19e2fff35e3768e3bf285a5b2b5747741d9ea70ae186dc0a548e\n",
            "  Stored in directory: /root/.cache/pip/wheels/84/ff/26/d3cfbd971e96c5aa3737ecfced81628830d7359b55fbb8ca3b\n",
            "Successfully built lm_eval rouge-score sqlitedict word2number\n",
            "Installing collected packages: word2number, sqlitedict, zstandard, tcolorpy, pybind11, portalocker, pathvalidate, mbstrdecoder, jsonlines, colorama, typepy, tqdm-multiprocess, sacrebleu, rouge-score, DataProperty, tabledata, pytablewriter, evaluate, lm_eval\n",
            "Successfully installed DataProperty-1.0.1 colorama-0.4.6 evaluate-0.4.3 jsonlines-4.0.0 lm_eval-0.4.5 mbstrdecoder-1.1.3 pathvalidate-3.2.1 portalocker-2.10.1 pybind11-2.13.6 pytablewriter-1.2.0 rouge-score-0.1.2 sacrebleu-2.4.3 sqlitedict-2.1.0 tabledata-1.3.3 tcolorpy-0.1.6 tqdm-multiprocess-0.0.11 typepy-1.3.2 word2number-1.1 zstandard-0.23.0\n"
          ]
        },
        {
          "output_type": "stream",
          "name": "stderr",
          "text": [
            "Cloning into 'lm-evaluation-harness'...\n"
          ]
        }
      ],
      "source": [
        "%%bash\n",
        "git clone https://github.com/EleutherAI/lm-evaluation-harness\n",
        "cd lm-evaluation-harness\n",
        "pip install -e ."
      ]
    },
    {
      "cell_type": "code",
      "source": [
        "%%bash\n",
        "lm_eval --model hf \\\n",
        "    --model_args pretrained=\"./merged_model\",dtype=\"float\" \\\n",
        "    --tasks hellaswag \\\n",
        "    --device cuda \\\n",
        "    --batch_size auto:4 \\\n",
        "    --output_path hellaswag_test"
      ],
      "metadata": {
        "colab": {
          "base_uri": "https://localhost:8080/"
        },
        "id": "f9onQrjiQXzb",
        "outputId": "e333f271-7cdd-4679-d8d7-9ca75628d8c5"
      },
      "execution_count": null,
      "outputs": [
        {
          "output_type": "stream",
          "name": "stdout",
          "text": [
            "Passed argument batch_size = auto:4.0. Detecting largest batch size\n",
            "Determined largest batch size: 64\n",
            "Passed argument batch_size = auto:4.0. Detecting largest batch size\n",
            "Determined largest batch size: 64\n",
            "hf (pretrained=./merged_model,dtype=float), gen_kwargs: (None), limit: None, num_fewshot: None, batch_size: auto:4 (64,64,64,64,64)\n",
            "|  Tasks  |Version|Filter|n-shot| Metric |   |Value |   |Stderr|\n",
            "|---------|------:|------|-----:|--------|---|-----:|---|-----:|\n",
            "|hellaswag|      1|none  |     0|acc     |↑  |0.4500|±  |0.0050|\n",
            "|         |       |none  |     0|acc_norm|↑  |0.6068|±  |0.0049|\n",
            "\n"
          ]
        },
        {
          "output_type": "stream",
          "name": "stderr",
          "text": [
            "2024-10-24 11:20:56.148489: E external/local_xla/xla/stream_executor/cuda/cuda_fft.cc:485] Unable to register cuFFT factory: Attempting to register factory for plugin cuFFT when one has already been registered\n",
            "2024-10-24 11:20:56.169632: E external/local_xla/xla/stream_executor/cuda/cuda_dnn.cc:8454] Unable to register cuDNN factory: Attempting to register factory for plugin cuDNN when one has already been registered\n",
            "2024-10-24 11:20:56.175979: E external/local_xla/xla/stream_executor/cuda/cuda_blas.cc:1452] Unable to register cuBLAS factory: Attempting to register factory for plugin cuBLAS when one has already been registered\n",
            "2024-10-24 11:20:57.369629: W tensorflow/compiler/tf2tensorrt/utils/py_utils.cc:38] TF-TRT Warning: Could not find TensorRT\n",
            "2024-10-24:11:20:59,248 INFO     [__main__.py:279] Verbosity set to INFO\n",
            "2024-10-24:11:21:04,884 INFO     [__init__.py:459] The tag 'arc_ca' is already registered as a group, this tag will not be registered. This may affect tasks you want to call.\n",
            "2024-10-24:11:21:04,904 INFO     [__init__.py:459] The tag 'arc_ca' is already registered as a group, this tag will not be registered. This may affect tasks you want to call.\n",
            "2024-10-24:11:21:09,205 INFO     [__main__.py:376] Selected Tasks: ['hellaswag']\n",
            "2024-10-24:11:21:09,206 INFO     [evaluator.py:164] Setting random seed to 0 | Setting numpy seed to 1234 | Setting torch manual seed to 1234 | Setting fewshot manual seed to 1234\n",
            "2024-10-24:11:21:09,207 INFO     [evaluator.py:201] Initializing hf model, with arguments: {'pretrained': './merged_model', 'dtype': 'float'}\n",
            "/usr/local/lib/python3.10/dist-packages/accelerate/accelerator.py:494: FutureWarning: `torch.cuda.amp.GradScaler(args...)` is deprecated. Please use `torch.amp.GradScaler('cuda', args...)` instead.\n",
            "  self.scaler = torch.cuda.amp.GradScaler(**kwargs)\n",
            "2024-10-24:11:21:09,252 INFO     [huggingface.py:129] Using device 'cuda'\n",
            "2024-10-24:11:21:09,255 INFO     [huggingface.py:481] Using model type 'default'\n",
            "2024-10-24:11:21:09,948 INFO     [huggingface.py:365] Model parallel was set to False, max memory was not set, and device map was set to {'': 'cuda'}\n",
            "2024-10-24:11:21:19,137 WARNING  [model.py:422] model.chat_template was called with the chat_template set to False or None. Therefore no chat template will be applied. Make sure this is an intended behavior.\n",
            "2024-10-24:11:21:19,138 INFO     [task.py:415] Building contexts for hellaswag on rank 0...\n",
            "\r  0%|          | 0/10042 [00:00<?, ?it/s]\r  2%|▏         | 187/10042 [00:00<00:05, 1869.70it/s]\r  4%|▍         | 407/10042 [00:00<00:04, 2059.78it/s]\r  6%|▋         | 632/10042 [00:00<00:04, 2145.93it/s]\r  8%|▊         | 847/10042 [00:00<00:10, 916.87it/s] \r 11%|█         | 1078/10042 [00:00<00:07, 1186.84it/s]\r 13%|█▎        | 1311/10042 [00:00<00:06, 1433.57it/s]\r 15%|█▌        | 1546/10042 [00:01<00:05, 1649.43it/s]\r 18%|█▊        | 1782/10042 [00:01<00:04, 1828.41it/s]\r 20%|██        | 2017/10042 [00:01<00:04, 1966.05it/s]\r 22%|██▏       | 2252/10042 [00:01<00:03, 2069.81it/s]\r 25%|██▍       | 2488/10042 [00:01<00:03, 2150.15it/s]\r 27%|██▋       | 2718/10042 [00:01<00:03, 2127.43it/s]\r 29%|██▉       | 2948/10042 [00:01<00:03, 2175.79it/s]\r 32%|███▏      | 3180/10042 [00:01<00:03, 2216.44it/s]\r 34%|███▍      | 3414/10042 [00:01<00:02, 2251.84it/s]\r 36%|███▋      | 3649/10042 [00:01<00:02, 2278.50it/s]\r 39%|███▊      | 3885/10042 [00:02<00:02, 2302.34it/s]\r 41%|████      | 4118/10042 [00:02<00:02, 2297.18it/s]\r 43%|████▎     | 4354/10042 [00:02<00:02, 2314.44it/s]\r 46%|████▌     | 4591/10042 [00:02<00:02, 2329.74it/s]\r 48%|████▊     | 4828/10042 [00:02<00:02, 2341.05it/s]\r 50%|█████     | 5066/10042 [00:02<00:02, 2349.64it/s]\r 53%|█████▎    | 5304/10042 [00:02<00:02, 2356.44it/s]\r 55%|█████▌    | 5541/10042 [00:02<00:01, 2359.80it/s]\r 58%|█████▊    | 5778/10042 [00:02<00:01, 2358.24it/s]\r 60%|█████▉    | 6014/10042 [00:02<00:01, 2353.43it/s]\r 62%|██████▏   | 6250/10042 [00:03<00:01, 2353.06it/s]\r 65%|██████▍   | 6486/10042 [00:03<00:01, 2248.20it/s]\r 67%|██████▋   | 6712/10042 [00:03<00:01, 2217.95it/s]\r 69%|██████▉   | 6935/10042 [00:03<00:01, 2191.75it/s]\r 71%|███████▏  | 7172/10042 [00:03<00:01, 2242.77it/s]\r 74%|███████▍  | 7411/10042 [00:03<00:01, 2284.15it/s]\r 76%|███████▌  | 7652/10042 [00:03<00:01, 2320.09it/s]\r 79%|███████▊  | 7892/10042 [00:03<00:00, 2342.47it/s]\r 81%|████████  | 8132/10042 [00:03<00:00, 2357.63it/s]\r 83%|████████▎ | 8372/10042 [00:03<00:00, 2368.11it/s]\r 86%|████████▌ | 8612/10042 [00:04<00:00, 2375.79it/s]\r 88%|████████▊ | 8850/10042 [00:04<00:00, 2375.50it/s]\r 90%|█████████ | 9088/10042 [00:04<00:00, 2366.65it/s]\r 93%|█████████▎| 9325/10042 [00:04<00:00, 2364.58it/s]\r 95%|█████████▌| 9562/10042 [00:04<00:00, 2361.63it/s]\r 98%|█████████▊| 9799/10042 [00:04<00:00, 2363.85it/s]\r100%|█████████▉| 10037/10042 [00:04<00:00, 2367.18it/s]\r100%|██████████| 10042/10042 [00:04<00:00, 2140.51it/s]\n",
            "2024-10-24:11:21:25,104 INFO     [evaluator.py:489] Running loglikelihood requests\n",
            "\rRunning loglikelihood requests:   0%|          | 0/40168 [00:00<?, ?it/s]\rRunning loglikelihood requests:   0%|          | 1/40168 [00:08<98:17:22,  8.81s/it]\rRunning loglikelihood requests:   0%|          | 66/40168 [00:09<1:14:26,  8.98it/s]\rRunning loglikelihood requests:   0%|          | 130/40168 [00:11<37:58, 17.57it/s] \rRunning loglikelihood requests:   0%|          | 195/40168 [00:12<25:51, 25.76it/s]\rRunning loglikelihood requests:   1%|          | 259/40168 [00:13<20:18, 32.75it/s]\rRunning loglikelihood requests:   1%|          | 323/40168 [00:14<17:10, 38.65it/s]\rRunning loglikelihood requests:   1%|          | 387/40168 [00:15<15:17, 43.37it/s]\rRunning loglikelihood requests:   1%|          | 451/40168 [00:16<14:03, 47.08it/s]\rRunning loglikelihood requests:   1%|▏         | 515/40168 [00:17<13:14, 49.88it/s]\rRunning loglikelihood requests:   1%|▏         | 579/40168 [00:18<12:36, 52.30it/s]\rRunning loglikelihood requests:   2%|▏         | 643/40168 [00:20<12:10, 54.08it/s]\rRunning loglikelihood requests:   2%|▏         | 707/40168 [00:21<11:52, 55.36it/s]\rRunning loglikelihood requests:   2%|▏         | 771/40168 [00:22<11:38, 56.37it/s]\rRunning loglikelihood requests:   2%|▏         | 835/40168 [00:23<11:28, 57.10it/s]\rRunning loglikelihood requests:   2%|▏         | 899/40168 [00:24<11:21, 57.61it/s]\rRunning loglikelihood requests:   2%|▏         | 963/40168 [00:25<11:14, 58.11it/s]\rRunning loglikelihood requests:   3%|▎         | 1027/40168 [00:26<11:09, 58.47it/s]\rRunning loglikelihood requests:   3%|▎         | 1091/40168 [00:27<11:05, 58.71it/s]\rRunning loglikelihood requests:   3%|▎         | 1155/40168 [00:28<11:02, 58.88it/s]\rRunning loglikelihood requests:   3%|▎         | 1219/40168 [00:29<10:58, 59.11it/s]\rRunning loglikelihood requests:   3%|▎         | 1283/40168 [00:30<10:56, 59.28it/s]\rRunning loglikelihood requests:   3%|▎         | 1347/40168 [00:31<10:53, 59.39it/s]\rRunning loglikelihood requests:   4%|▎         | 1411/40168 [00:32<10:51, 59.47it/s]\rRunning loglikelihood requests:   4%|▎         | 1475/40168 [00:34<10:50, 59.50it/s]\rRunning loglikelihood requests:   4%|▍         | 1539/40168 [00:35<10:47, 59.61it/s]\rRunning loglikelihood requests:   4%|▍         | 1603/40168 [00:36<10:45, 59.70it/s]\rRunning loglikelihood requests:   4%|▍         | 1667/40168 [00:37<10:44, 59.75it/s]\rRunning loglikelihood requests:   4%|▍         | 1731/40168 [00:38<10:42, 59.79it/s]\rRunning loglikelihood requests:   4%|▍         | 1795/40168 [00:39<10:41, 59.79it/s]\rRunning loglikelihood requests:   5%|▍         | 1859/40168 [00:40<10:39, 59.93it/s]\rRunning loglikelihood requests:   5%|▍         | 1923/40168 [00:41<10:37, 60.02it/s]\rRunning loglikelihood requests:   5%|▍         | 1987/40168 [00:42<10:35, 60.11it/s]\rRunning loglikelihood requests:   5%|▌         | 2051/40168 [00:43<10:33, 60.18it/s]\rRunning loglikelihood requests:   5%|▌         | 2115/40168 [00:44<10:31, 60.22it/s]\rRunning loglikelihood requests:   5%|▌         | 2179/40168 [00:45<10:29, 60.30it/s]\rRunning loglikelihood requests:   6%|▌         | 2243/40168 [00:46<10:28, 60.36it/s]\rRunning loglikelihood requests:   6%|▌         | 2307/40168 [00:47<10:26, 60.39it/s]\rRunning loglikelihood requests:   6%|▌         | 2371/40168 [00:48<10:25, 60.42it/s]\rRunning loglikelihood requests:   6%|▌         | 2435/40168 [00:50<10:24, 60.45it/s]\rRunning loglikelihood requests:   6%|▌         | 2499/40168 [00:51<10:23, 60.45it/s]\rRunning loglikelihood requests:   6%|▋         | 2563/40168 [00:52<10:17, 60.90it/s]\rRunning loglikelihood requests:   7%|▋         | 2627/40168 [00:53<10:13, 61.24it/s]\rRunning loglikelihood requests:   7%|▋         | 2691/40168 [00:54<10:09, 61.47it/s]\rRunning loglikelihood requests:   7%|▋         | 2755/40168 [00:55<10:06, 61.64it/s]\rRunning loglikelihood requests:   7%|▋         | 2819/40168 [00:56<10:04, 61.76it/s]\rRunning loglikelihood requests:   7%|▋         | 2883/40168 [00:57<10:03, 61.82it/s]\rRunning loglikelihood requests:   7%|▋         | 2947/40168 [00:58<10:00, 62.03it/s]\rRunning loglikelihood requests:   7%|▋         | 3011/40168 [00:59<09:57, 62.17it/s]\rRunning loglikelihood requests:   8%|▊         | 3075/40168 [01:00<09:55, 62.28it/s]\rRunning loglikelihood requests:   8%|▊         | 3139/40168 [01:01<09:53, 62.36it/s]\rRunning loglikelihood requests:   8%|▊         | 3203/40168 [01:02<09:52, 62.42it/s]\rRunning loglikelihood requests:   8%|▊         | 3267/40168 [01:03<09:50, 62.45it/s]\rRunning loglikelihood requests:   8%|▊         | 3331/40168 [01:04<09:49, 62.44it/s]\rRunning loglikelihood requests:   8%|▊         | 3395/40168 [01:05<09:48, 62.48it/s]\rRunning loglikelihood requests:   9%|▊         | 3459/40168 [01:06<09:47, 62.51it/s]\rRunning loglikelihood requests:   9%|▉         | 3523/40168 [01:07<09:46, 62.53it/s]\rRunning loglikelihood requests:   9%|▉         | 3587/40168 [01:08<09:44, 62.54it/s]\rRunning loglikelihood requests:   9%|▉         | 3651/40168 [01:09<09:43, 62.55it/s]\rRunning loglikelihood requests:   9%|▉         | 3715/40168 [01:10<09:42, 62.55it/s]\rRunning loglikelihood requests:   9%|▉         | 3779/40168 [01:11<09:41, 62.53it/s]\rRunning loglikelihood requests:  10%|▉         | 3843/40168 [01:12<09:40, 62.57it/s]\rRunning loglikelihood requests:  10%|▉         | 3907/40168 [01:13<09:39, 62.59it/s]\rRunning loglikelihood requests:  10%|▉         | 3971/40168 [01:14<09:38, 62.61it/s]\rRunning loglikelihood requests:  10%|█         | 4035/40168 [01:15<09:36, 62.63it/s]\rRunning loglikelihood requests:  10%|█         | 4099/40168 [01:16<09:35, 62.64it/s]\rRunning loglikelihood requests:  10%|█         | 4163/40168 [01:17<09:34, 62.63it/s]\rRunning loglikelihood requests:  11%|█         | 4227/40168 [01:18<09:34, 62.61it/s]\rRunning loglikelihood requests:  11%|█         | 4291/40168 [01:19<09:31, 62.82it/s]\rRunning loglikelihood requests:  11%|█         | 4355/40168 [01:20<09:28, 62.97it/s]\rRunning loglikelihood requests:  11%|█         | 4419/40168 [01:21<09:26, 63.07it/s]\rRunning loglikelihood requests:  11%|█         | 4483/40168 [01:22<09:25, 63.15it/s]\rRunning loglikelihood requests:  11%|█▏        | 4547/40168 [01:23<09:23, 63.20it/s]\rRunning loglikelihood requests:  11%|█▏        | 4611/40168 [01:24<09:22, 63.23it/s]\rRunning loglikelihood requests:  12%|█▏        | 4675/40168 [01:25<09:21, 63.24it/s]\rRunning loglikelihood requests:  12%|█▏        | 4739/40168 [01:26<09:18, 63.47it/s]\rRunning loglikelihood requests:  12%|█▏        | 4803/40168 [01:27<09:15, 63.63it/s]\rRunning loglikelihood requests:  12%|█▏        | 4867/40168 [01:28<09:13, 63.73it/s]\rRunning loglikelihood requests:  12%|█▏        | 4931/40168 [01:29<09:12, 63.81it/s]\rRunning loglikelihood requests:  12%|█▏        | 4995/40168 [01:30<09:10, 63.87it/s]\rRunning loglikelihood requests:  13%|█▎        | 5060/40168 [01:31<09:06, 64.21it/s]\rRunning loglikelihood requests:  13%|█▎        | 5124/40168 [01:32<09:06, 64.13it/s]\rRunning loglikelihood requests:  13%|█▎        | 5188/40168 [01:33<09:05, 64.07it/s]\rRunning loglikelihood requests:  13%|█▎        | 5252/40168 [01:34<09:00, 64.61it/s]\rRunning loglikelihood requests:  13%|█▎        | 5316/40168 [01:35<08:56, 65.00it/s]\rRunning loglikelihood requests:  13%|█▎        | 5380/40168 [01:36<08:52, 65.27it/s]\rRunning loglikelihood requests:  14%|█▎        | 5444/40168 [01:37<08:50, 65.46it/s]\rRunning loglikelihood requests:  14%|█▎        | 5508/40168 [01:38<08:48, 65.58it/s]\rRunning loglikelihood requests:  14%|█▍        | 5572/40168 [01:39<08:46, 65.67it/s]\rRunning loglikelihood requests:  14%|█▍        | 5636/40168 [01:40<08:45, 65.73it/s]\rRunning loglikelihood requests:  14%|█▍        | 5700/40168 [01:41<08:46, 65.45it/s]\rRunning loglikelihood requests:  14%|█▍        | 5764/40168 [01:42<08:44, 65.62it/s]\rRunning loglikelihood requests:  15%|█▍        | 5828/40168 [01:43<08:42, 65.74it/s]\rRunning loglikelihood requests:  15%|█▍        | 5892/40168 [01:44<08:40, 65.83it/s]\rRunning loglikelihood requests:  15%|█▍        | 5956/40168 [01:45<08:39, 65.89it/s]\rRunning loglikelihood requests:  15%|█▍        | 6020/40168 [01:46<08:37, 65.94it/s]\rRunning loglikelihood requests:  15%|█▌        | 6084/40168 [01:47<08:36, 65.98it/s]\rRunning loglikelihood requests:  15%|█▌        | 6148/40168 [01:48<08:35, 66.01it/s]\rRunning loglikelihood requests:  15%|█▌        | 6212/40168 [01:49<08:34, 66.03it/s]\rRunning loglikelihood requests:  16%|█▌        | 6276/40168 [01:50<08:33, 66.01it/s]\rRunning loglikelihood requests:  16%|█▌        | 6340/40168 [01:51<08:31, 66.16it/s]\rRunning loglikelihood requests:  16%|█▌        | 6404/40168 [01:52<08:29, 66.27it/s]\rRunning loglikelihood requests:  16%|█▌        | 6468/40168 [01:53<08:27, 66.34it/s]\rRunning loglikelihood requests:  16%|█▋        | 6532/40168 [01:54<08:26, 66.40it/s]\rRunning loglikelihood requests:  16%|█▋        | 6597/40168 [01:55<08:23, 66.74it/s]\rRunning loglikelihood requests:  17%|█▋        | 6661/40168 [01:56<08:22, 66.67it/s]\rRunning loglikelihood requests:  17%|█▋        | 6725/40168 [01:57<08:21, 66.62it/s]\rRunning loglikelihood requests:  17%|█▋        | 6789/40168 [01:58<08:21, 66.58it/s]\rRunning loglikelihood requests:  17%|█▋        | 6853/40168 [01:58<08:19, 66.63it/s]\rRunning loglikelihood requests:  17%|█▋        | 6917/40168 [01:59<08:18, 66.68it/s]\rRunning loglikelihood requests:  17%|█▋        | 6982/40168 [02:00<08:15, 67.01it/s]\rRunning loglikelihood requests:  18%|█▊        | 7046/40168 [02:01<08:14, 66.94it/s]\rRunning loglikelihood requests:  18%|█▊        | 7110/40168 [02:02<08:14, 66.89it/s]\rRunning loglikelihood requests:  18%|█▊        | 7174/40168 [02:03<08:13, 66.85it/s]\rRunning loglikelihood requests:  18%|█▊        | 7238/40168 [02:04<08:12, 66.83it/s]\rRunning loglikelihood requests:  18%|█▊        | 7302/40168 [02:05<08:11, 66.81it/s]\rRunning loglikelihood requests:  18%|█▊        | 7366/40168 [02:06<08:11, 66.79it/s]\rRunning loglikelihood requests:  18%|█▊        | 7430/40168 [02:07<08:10, 66.75it/s]\rRunning loglikelihood requests:  19%|█▊        | 7494/40168 [02:08<08:10, 66.68it/s]\rRunning loglikelihood requests:  19%|█▉        | 7558/40168 [02:09<08:09, 66.64it/s]\rRunning loglikelihood requests:  19%|█▉        | 7622/40168 [02:10<08:08, 66.60it/s]\rRunning loglikelihood requests:  19%|█▉        | 7686/40168 [02:11<08:07, 66.58it/s]\rRunning loglikelihood requests:  19%|█▉        | 7750/40168 [02:12<08:07, 66.56it/s]\rRunning loglikelihood requests:  19%|█▉        | 7814/40168 [02:13<08:06, 66.54it/s]\rRunning loglikelihood requests:  20%|█▉        | 7878/40168 [02:14<08:05, 66.54it/s]\rRunning loglikelihood requests:  20%|█▉        | 7942/40168 [02:15<08:04, 66.54it/s]\rRunning loglikelihood requests:  20%|█▉        | 8006/40168 [02:16<08:03, 66.50it/s]\rRunning loglikelihood requests:  20%|██        | 8070/40168 [02:17<08:02, 66.56it/s]\rRunning loglikelihood requests:  20%|██        | 8134/40168 [02:18<08:01, 66.59it/s]\rRunning loglikelihood requests:  20%|██        | 8198/40168 [02:19<07:59, 66.61it/s]\rRunning loglikelihood requests:  21%|██        | 8262/40168 [02:20<07:58, 66.63it/s]\rRunning loglikelihood requests:  21%|██        | 8326/40168 [02:21<07:57, 66.64it/s]\rRunning loglikelihood requests:  21%|██        | 8390/40168 [02:22<07:56, 66.65it/s]\rRunning loglikelihood requests:  21%|██        | 8454/40168 [02:22<07:55, 66.66it/s]\rRunning loglikelihood requests:  21%|██        | 8518/40168 [02:23<07:54, 66.67it/s]\rRunning loglikelihood requests:  21%|██▏       | 8582/40168 [02:24<07:53, 66.66it/s]\rRunning loglikelihood requests:  22%|██▏       | 8646/40168 [02:25<07:51, 66.83it/s]\rRunning loglikelihood requests:  22%|██▏       | 8711/40168 [02:26<07:47, 67.25it/s]\rRunning loglikelihood requests:  22%|██▏       | 8775/40168 [02:27<07:46, 67.24it/s]\rRunning loglikelihood requests:  22%|██▏       | 8839/40168 [02:28<07:46, 67.23it/s]\rRunning loglikelihood requests:  22%|██▏       | 8903/40168 [02:29<07:45, 67.22it/s]\rRunning loglikelihood requests:  22%|██▏       | 8969/40168 [02:30<07:39, 67.84it/s]\rRunning loglikelihood requests:  22%|██▏       | 9034/40168 [02:31<07:38, 67.97it/s]\rRunning loglikelihood requests:  23%|██▎       | 9098/40168 [02:32<07:38, 67.74it/s]\rRunning loglikelihood requests:  23%|██▎       | 9162/40168 [02:33<07:38, 67.58it/s]\rRunning loglikelihood requests:  23%|██▎       | 9226/40168 [02:34<07:38, 67.45it/s]\rRunning loglikelihood requests:  23%|██▎       | 9290/40168 [02:35<07:32, 68.21it/s]\rRunning loglikelihood requests:  23%|██▎       | 9354/40168 [02:36<07:28, 68.75it/s]\rRunning loglikelihood requests:  23%|██▎       | 9418/40168 [02:37<07:24, 69.14it/s]\rRunning loglikelihood requests:  24%|██▎       | 9482/40168 [02:38<07:22, 69.42it/s]\rRunning loglikelihood requests:  24%|██▍       | 9546/40168 [02:39<07:19, 69.61it/s]\rRunning loglikelihood requests:  24%|██▍       | 9611/40168 [02:39<07:16, 70.07it/s]\rRunning loglikelihood requests:  24%|██▍       | 9675/40168 [02:40<07:15, 70.07it/s]\rRunning loglikelihood requests:  24%|██▍       | 9739/40168 [02:41<07:14, 70.07it/s]\rRunning loglikelihood requests:  24%|██▍       | 9803/40168 [02:42<07:13, 70.07it/s]\rRunning loglikelihood requests:  25%|██▍       | 9867/40168 [02:43<07:12, 70.01it/s]\rRunning loglikelihood requests:  25%|██▍       | 9931/40168 [02:44<07:11, 70.10it/s]\rRunning loglikelihood requests:  25%|██▍       | 9995/40168 [02:50<18:47, 26.77it/s]\rRunning loglikelihood requests:  25%|██▌       | 10059/40168 [02:51<15:15, 32.88it/s]\rRunning loglikelihood requests:  25%|██▌       | 10123/40168 [02:52<12:47, 39.13it/s]\rRunning loglikelihood requests:  25%|██▌       | 10187/40168 [02:53<11:04, 45.14it/s]\rRunning loglikelihood requests:  26%|██▌       | 10251/40168 [02:53<09:51, 50.57it/s]\rRunning loglikelihood requests:  26%|██▌       | 10316/40168 [02:54<08:58, 55.49it/s]\rRunning loglikelihood requests:  26%|██▌       | 10380/40168 [02:55<08:22, 59.23it/s]\rRunning loglikelihood requests:  26%|██▌       | 10444/40168 [02:56<07:58, 62.17it/s]\rRunning loglikelihood requests:  26%|██▌       | 10508/40168 [02:57<07:40, 64.41it/s]\rRunning loglikelihood requests:  26%|██▋       | 10572/40168 [02:58<07:27, 66.07it/s]\rRunning loglikelihood requests:  26%|██▋       | 10636/40168 [02:59<07:17, 67.48it/s]\rRunning loglikelihood requests:  27%|██▋       | 10701/40168 [03:00<07:08, 68.83it/s]\rRunning loglikelihood requests:  27%|██▋       | 10765/40168 [03:01<07:03, 69.48it/s]\rRunning loglikelihood requests:  27%|██▋       | 10829/40168 [03:02<06:59, 69.95it/s]\rRunning loglikelihood requests:  27%|██▋       | 10893/40168 [03:03<06:56, 70.28it/s]\rRunning loglikelihood requests:  27%|██▋       | 10957/40168 [03:03<06:54, 70.51it/s]\rRunning loglikelihood requests:  27%|██▋       | 11021/40168 [03:04<06:52, 70.68it/s]\rRunning loglikelihood requests:  28%|██▊       | 11085/40168 [03:05<06:50, 70.79it/s]\rRunning loglikelihood requests:  28%|██▊       | 11149/40168 [03:06<06:49, 70.86it/s]\rRunning loglikelihood requests:  28%|██▊       | 11213/40168 [03:07<06:48, 70.91it/s]\rRunning loglikelihood requests:  28%|██▊       | 11277/40168 [03:08<06:47, 70.86it/s]\rRunning loglikelihood requests:  28%|██▊       | 11341/40168 [03:09<06:46, 70.98it/s]\rRunning loglikelihood requests:  28%|██▊       | 11405/40168 [03:10<06:44, 71.06it/s]\rRunning loglikelihood requests:  29%|██▊       | 11469/40168 [03:11<06:43, 71.12it/s]\rRunning loglikelihood requests:  29%|██▊       | 11533/40168 [03:12<06:42, 71.16it/s]\rRunning loglikelihood requests:  29%|██▉       | 11597/40168 [03:12<06:41, 71.19it/s]\rRunning loglikelihood requests:  29%|██▉       | 11661/40168 [03:13<06:40, 71.21it/s]\rRunning loglikelihood requests:  29%|██▉       | 11725/40168 [03:14<06:39, 71.22it/s]\rRunning loglikelihood requests:  29%|██▉       | 11789/40168 [03:15<06:38, 71.23it/s]\rRunning loglikelihood requests:  30%|██▉       | 11853/40168 [03:16<06:37, 71.23it/s]\rRunning loglikelihood requests:  30%|██▉       | 11917/40168 [03:17<06:36, 71.20it/s]\rRunning loglikelihood requests:  30%|██▉       | 11981/40168 [03:18<06:34, 71.40it/s]\rRunning loglikelihood requests:  30%|██▉       | 12045/40168 [03:19<06:33, 71.54it/s]\rRunning loglikelihood requests:  30%|███       | 12109/40168 [03:20<06:31, 71.63it/s]\rRunning loglikelihood requests:  30%|███       | 12173/40168 [03:20<06:30, 71.72it/s]\rRunning loglikelihood requests:  30%|███       | 12237/40168 [03:21<06:29, 71.77it/s]\rRunning loglikelihood requests:  31%|███       | 12301/40168 [03:22<06:28, 71.80it/s]\rRunning loglikelihood requests:  31%|███       | 12366/40168 [03:23<06:25, 72.16it/s]\rRunning loglikelihood requests:  31%|███       | 12430/40168 [03:24<06:24, 72.08it/s]\rRunning loglikelihood requests:  31%|███       | 12494/40168 [03:25<06:24, 72.02it/s]\rRunning loglikelihood requests:  31%|███▏      | 12558/40168 [03:26<06:23, 71.95it/s]\rRunning loglikelihood requests:  31%|███▏      | 12622/40168 [03:27<06:21, 72.13it/s]\rRunning loglikelihood requests:  32%|███▏      | 12686/40168 [03:28<06:20, 72.26it/s]\rRunning loglikelihood requests:  32%|███▏      | 12750/40168 [03:28<06:18, 72.35it/s]\rRunning loglikelihood requests:  32%|███▏      | 12814/40168 [03:29<06:17, 72.41it/s]\rRunning loglikelihood requests:  32%|███▏      | 12878/40168 [03:30<06:16, 72.46it/s]\rRunning loglikelihood requests:  32%|███▏      | 12942/40168 [03:31<06:15, 72.49it/s]\rRunning loglikelihood requests:  32%|███▏      | 13007/40168 [03:32<06:12, 72.84it/s]\rRunning loglikelihood requests:  33%|███▎      | 13071/40168 [03:33<06:12, 72.75it/s]\rRunning loglikelihood requests:  33%|███▎      | 13135/40168 [03:34<06:11, 72.68it/s]\rRunning loglikelihood requests:  33%|███▎      | 13199/40168 [03:35<06:11, 72.61it/s]\rRunning loglikelihood requests:  33%|███▎      | 13263/40168 [03:36<06:10, 72.66it/s]\rRunning loglikelihood requests:  33%|███▎      | 13327/40168 [03:36<06:09, 72.70it/s]\rRunning loglikelihood requests:  33%|███▎      | 13391/40168 [03:37<06:08, 72.72it/s]\rRunning loglikelihood requests:  33%|███▎      | 13455/40168 [03:38<06:07, 72.73it/s]\rRunning loglikelihood requests:  34%|███▎      | 13519/40168 [03:39<06:06, 72.75it/s]\rRunning loglikelihood requests:  34%|███▍      | 13583/40168 [03:40<06:05, 72.75it/s]\rRunning loglikelihood requests:  34%|███▍      | 13648/40168 [03:41<06:02, 73.10it/s]\rRunning loglikelihood requests:  34%|███▍      | 13713/40168 [03:42<06:00, 73.33it/s]\rRunning loglikelihood requests:  34%|███▍      | 13777/40168 [03:43<06:00, 73.16it/s]\rRunning loglikelihood requests:  34%|███▍      | 13841/40168 [03:43<06:00, 73.03it/s]\rRunning loglikelihood requests:  35%|███▍      | 13905/40168 [03:44<05:56, 73.63it/s]\rRunning loglikelihood requests:  35%|███▍      | 13969/40168 [03:45<05:53, 74.05it/s]\rRunning loglikelihood requests:  35%|███▍      | 14033/40168 [03:46<05:51, 74.36it/s]\rRunning loglikelihood requests:  35%|███▌      | 14097/40168 [03:47<05:49, 74.58it/s]\rRunning loglikelihood requests:  35%|███▌      | 14161/40168 [03:48<05:47, 74.74it/s]\rRunning loglikelihood requests:  35%|███▌      | 14225/40168 [03:49<05:46, 74.86it/s]\rRunning loglikelihood requests:  36%|███▌      | 14289/40168 [03:49<05:45, 74.93it/s]\rRunning loglikelihood requests:  36%|███▌      | 14353/40168 [03:50<05:44, 74.99it/s]\rRunning loglikelihood requests:  36%|███▌      | 14417/40168 [03:51<05:43, 75.03it/s]\rRunning loglikelihood requests:  36%|███▌      | 14481/40168 [03:52<05:42, 75.06it/s]\rRunning loglikelihood requests:  36%|███▌      | 14545/40168 [03:53<05:41, 75.06it/s]\rRunning loglikelihood requests:  36%|███▋      | 14609/40168 [03:54<05:40, 75.13it/s]\rRunning loglikelihood requests:  37%|███▋      | 14673/40168 [03:55<05:39, 75.18it/s]\rRunning loglikelihood requests:  37%|███▋      | 14737/40168 [03:55<05:38, 75.21it/s]\rRunning loglikelihood requests:  37%|███▋      | 14801/40168 [03:56<05:37, 75.20it/s]\rRunning loglikelihood requests:  37%|███▋      | 14866/40168 [03:57<05:34, 75.56it/s]\rRunning loglikelihood requests:  37%|███▋      | 14930/40168 [03:58<05:34, 75.48it/s]\rRunning loglikelihood requests:  37%|███▋      | 14994/40168 [03:59<05:33, 75.43it/s]\rRunning loglikelihood requests:  37%|███▋      | 15059/40168 [04:00<05:31, 75.74it/s]\rRunning loglikelihood requests:  38%|███▊      | 15123/40168 [04:00<05:31, 75.60it/s]\rRunning loglikelihood requests:  38%|███▊      | 15187/40168 [04:01<05:30, 75.51it/s]\rRunning loglikelihood requests:  38%|███▊      | 15251/40168 [04:02<05:30, 75.43it/s]\rRunning loglikelihood requests:  38%|███▊      | 15315/40168 [04:03<05:28, 75.62it/s]\rRunning loglikelihood requests:  38%|███▊      | 15379/40168 [04:04<05:27, 75.76it/s]\rRunning loglikelihood requests:  38%|███▊      | 15443/40168 [04:05<05:25, 75.85it/s]\rRunning loglikelihood requests:  39%|███▊      | 15507/40168 [04:06<05:24, 75.92it/s]\rRunning loglikelihood requests:  39%|███▉      | 15571/40168 [04:06<05:23, 75.96it/s]\rRunning loglikelihood requests:  39%|███▉      | 15636/40168 [04:07<05:21, 76.35it/s]\rRunning loglikelihood requests:  39%|███▉      | 15700/40168 [04:08<05:20, 76.26it/s]\rRunning loglikelihood requests:  39%|███▉      | 15765/40168 [04:09<05:18, 76.55it/s]\rRunning loglikelihood requests:  39%|███▉      | 15829/40168 [04:10<05:18, 76.41it/s]\rRunning loglikelihood requests:  40%|███▉      | 15893/40168 [04:11<05:18, 76.31it/s]\rRunning loglikelihood requests:  40%|███▉      | 15957/40168 [04:11<05:17, 76.21it/s]\rRunning loglikelihood requests:  40%|███▉      | 16021/40168 [04:12<05:16, 76.21it/s]\rRunning loglikelihood requests:  40%|████      | 16085/40168 [04:13<05:15, 76.22it/s]\rRunning loglikelihood requests:  40%|████      | 16149/40168 [04:14<05:15, 76.21it/s]\rRunning loglikelihood requests:  40%|████      | 16213/40168 [04:15<05:14, 76.22it/s]\rRunning loglikelihood requests:  41%|████      | 16277/40168 [04:16<05:13, 76.21it/s]\rRunning loglikelihood requests:  41%|████      | 16341/40168 [04:16<05:12, 76.21it/s]\rRunning loglikelihood requests:  41%|████      | 16405/40168 [04:17<05:11, 76.21it/s]\rRunning loglikelihood requests:  41%|████      | 16469/40168 [04:18<05:10, 76.22it/s]\rRunning loglikelihood requests:  41%|████      | 16533/40168 [04:19<05:10, 76.22it/s]\rRunning loglikelihood requests:  41%|████▏     | 16597/40168 [04:20<05:09, 76.22it/s]\rRunning loglikelihood requests:  41%|████▏     | 16661/40168 [04:21<05:08, 76.32it/s]\rRunning loglikelihood requests:  42%|████▏     | 16725/40168 [04:21<05:06, 76.37it/s]\rRunning loglikelihood requests:  42%|████▏     | 16789/40168 [04:22<05:05, 76.42it/s]\rRunning loglikelihood requests:  42%|████▏     | 16853/40168 [04:23<05:04, 76.46it/s]\rRunning loglikelihood requests:  42%|████▏     | 16917/40168 [04:24<05:04, 76.48it/s]\rRunning loglikelihood requests:  42%|████▏     | 16981/40168 [04:25<05:03, 76.48it/s]\rRunning loglikelihood requests:  42%|████▏     | 17045/40168 [04:26<05:02, 76.49it/s]\rRunning loglikelihood requests:  43%|████▎     | 17109/40168 [04:27<05:01, 76.51it/s]\rRunning loglikelihood requests:  43%|████▎     | 17173/40168 [04:27<05:00, 76.52it/s]\rRunning loglikelihood requests:  43%|████▎     | 17237/40168 [04:28<04:59, 76.52it/s]\rRunning loglikelihood requests:  43%|████▎     | 17301/40168 [04:29<04:58, 76.49it/s]\rRunning loglikelihood requests:  43%|████▎     | 17365/40168 [04:30<04:57, 76.71it/s]\rRunning loglikelihood requests:  43%|████▎     | 17429/40168 [04:31<04:55, 76.89it/s]\rRunning loglikelihood requests:  44%|████▎     | 17493/40168 [04:32<04:54, 77.00it/s]\rRunning loglikelihood requests:  44%|████▎     | 17557/40168 [04:32<04:53, 77.08it/s]\rRunning loglikelihood requests:  44%|████▍     | 17621/40168 [04:33<04:52, 77.14it/s]\rRunning loglikelihood requests:  44%|████▍     | 17685/40168 [04:34<04:51, 77.18it/s]\rRunning loglikelihood requests:  44%|████▍     | 17749/40168 [04:35<04:50, 77.21it/s]\rRunning loglikelihood requests:  44%|████▍     | 17813/40168 [04:36<04:49, 77.23it/s]\rRunning loglikelihood requests:  45%|████▍     | 17877/40168 [04:36<04:48, 77.25it/s]\rRunning loglikelihood requests:  45%|████▍     | 17941/40168 [04:37<04:47, 77.25it/s]\rRunning loglikelihood requests:  45%|████▍     | 18005/40168 [04:38<04:46, 77.32it/s]\rRunning loglikelihood requests:  45%|████▍     | 18069/40168 [04:39<04:45, 77.37it/s]\rRunning loglikelihood requests:  45%|████▌     | 18133/40168 [04:40<04:44, 77.39it/s]\rRunning loglikelihood requests:  45%|████▌     | 18197/40168 [04:41<04:43, 77.42it/s]\rRunning loglikelihood requests:  45%|████▌     | 18261/40168 [04:41<04:42, 77.43it/s]\rRunning loglikelihood requests:  46%|████▌     | 18325/40168 [04:42<04:42, 77.44it/s]\rRunning loglikelihood requests:  46%|████▌     | 18389/40168 [04:43<04:41, 77.43it/s]\rRunning loglikelihood requests:  46%|████▌     | 18453/40168 [04:44<04:40, 77.44it/s]\rRunning loglikelihood requests:  46%|████▌     | 18517/40168 [04:45<04:39, 77.44it/s]\rRunning loglikelihood requests:  46%|████▋     | 18581/40168 [04:46<04:38, 77.41it/s]\rRunning loglikelihood requests:  46%|████▋     | 18645/40168 [04:46<04:38, 77.37it/s]\rRunning loglikelihood requests:  47%|████▋     | 18709/40168 [04:47<04:33, 78.35it/s]\rRunning loglikelihood requests:  47%|████▋     | 18773/40168 [04:48<04:30, 79.05it/s]\rRunning loglikelihood requests:  47%|████▋     | 18837/40168 [04:49<04:28, 79.55it/s]\rRunning loglikelihood requests:  47%|████▋     | 18901/40168 [04:50<04:26, 79.89it/s]\rRunning loglikelihood requests:  47%|████▋     | 18965/40168 [04:50<04:24, 80.15it/s]\rRunning loglikelihood requests:  47%|████▋     | 19029/40168 [04:51<04:23, 80.32it/s]\rRunning loglikelihood requests:  48%|████▊     | 19093/40168 [04:52<04:22, 80.44it/s]\rRunning loglikelihood requests:  48%|████▊     | 19157/40168 [04:53<04:20, 80.52it/s]\rRunning loglikelihood requests:  48%|████▊     | 19221/40168 [04:54<04:19, 80.57it/s]\rRunning loglikelihood requests:  48%|████▊     | 19285/40168 [04:54<04:18, 80.89it/s]\rRunning loglikelihood requests:  48%|████▊     | 19349/40168 [04:55<04:16, 81.10it/s]\rRunning loglikelihood requests:  48%|████▊     | 19413/40168 [04:56<04:15, 81.25it/s]\rRunning loglikelihood requests:  48%|████▊     | 19477/40168 [04:57<04:14, 81.35it/s]\rRunning loglikelihood requests:  49%|████▊     | 19541/40168 [04:57<04:13, 81.41it/s]\rRunning loglikelihood requests:  49%|████▉     | 19605/40168 [04:58<04:12, 81.46it/s]\rRunning loglikelihood requests:  49%|████▉     | 19669/40168 [04:59<04:11, 81.50it/s]\rRunning loglikelihood requests:  49%|████▉     | 19733/40168 [05:00<04:10, 81.53it/s]\rRunning loglikelihood requests:  49%|████▉     | 19797/40168 [05:01<04:09, 81.55it/s]\rRunning loglikelihood requests:  49%|████▉     | 19861/40168 [05:01<04:09, 81.53it/s]\rRunning loglikelihood requests:  50%|████▉     | 19925/40168 [05:02<04:07, 81.64it/s]\rRunning loglikelihood requests:  50%|████▉     | 19989/40168 [05:03<04:06, 81.70it/s]\rRunning loglikelihood requests:  50%|████▉     | 20053/40168 [05:04<04:06, 81.72it/s]\rRunning loglikelihood requests:  50%|█████     | 20117/40168 [05:04<04:05, 81.74it/s]\rRunning loglikelihood requests:  50%|█████     | 20181/40168 [05:05<04:04, 81.78it/s]\rRunning loglikelihood requests:  50%|█████     | 20245/40168 [05:06<04:03, 81.81it/s]\rRunning loglikelihood requests:  51%|█████     | 20309/40168 [05:07<04:02, 81.83it/s]\rRunning loglikelihood requests:  51%|█████     | 20373/40168 [05:08<04:01, 81.84it/s]\rRunning loglikelihood requests:  51%|█████     | 20437/40168 [05:08<04:01, 81.86it/s]\rRunning loglikelihood requests:  51%|█████     | 20501/40168 [05:09<04:00, 81.86it/s]\rRunning loglikelihood requests:  51%|█████     | 20565/40168 [05:10<03:59, 81.87it/s]\rRunning loglikelihood requests:  51%|█████▏    | 20629/40168 [05:11<03:58, 81.87it/s]\rRunning loglikelihood requests:  52%|█████▏    | 20693/40168 [05:12<03:57, 81.88it/s]\rRunning loglikelihood requests:  52%|█████▏    | 20757/40168 [05:12<03:57, 81.88it/s]\rRunning loglikelihood requests:  52%|█████▏    | 20821/40168 [05:13<03:56, 81.89it/s]\rRunning loglikelihood requests:  52%|█████▏    | 20885/40168 [05:14<03:55, 81.89it/s]\rRunning loglikelihood requests:  52%|█████▏    | 20949/40168 [05:15<03:54, 81.89it/s]\rRunning loglikelihood requests:  52%|█████▏    | 21013/40168 [05:15<03:53, 81.97it/s]\rRunning loglikelihood requests:  52%|█████▏    | 21077/40168 [05:16<03:52, 82.03it/s]\rRunning loglikelihood requests:  53%|█████▎    | 21141/40168 [05:17<03:51, 82.06it/s]\rRunning loglikelihood requests:  53%|█████▎    | 21205/40168 [05:18<03:50, 82.09it/s]\rRunning loglikelihood requests:  53%|█████▎    | 21269/40168 [05:19<03:50, 82.11it/s]\rRunning loglikelihood requests:  53%|█████▎    | 21333/40168 [05:19<03:49, 82.13it/s]\rRunning loglikelihood requests:  53%|█████▎    | 21397/40168 [05:20<03:48, 82.13it/s]\rRunning loglikelihood requests:  53%|█████▎    | 21461/40168 [05:21<03:47, 82.14it/s]\rRunning loglikelihood requests:  54%|█████▎    | 21525/40168 [05:22<03:47, 82.11it/s]\rRunning loglikelihood requests:  54%|█████▎    | 21589/40168 [05:22<03:45, 82.38it/s]\rRunning loglikelihood requests:  54%|█████▍    | 21653/40168 [05:23<03:44, 82.56it/s]\rRunning loglikelihood requests:  54%|█████▍    | 21717/40168 [05:24<03:43, 82.68it/s]\rRunning loglikelihood requests:  54%|█████▍    | 21782/40168 [05:25<03:41, 83.14it/s]\rRunning loglikelihood requests:  54%|█████▍    | 21846/40168 [05:26<03:40, 83.10it/s]\rRunning loglikelihood requests:  55%|█████▍    | 21910/40168 [05:26<03:39, 83.07it/s]\rRunning loglikelihood requests:  55%|█████▍    | 21974/40168 [05:27<03:39, 83.05it/s]\rRunning loglikelihood requests:  55%|█████▍    | 22038/40168 [05:28<03:38, 83.01it/s]\rRunning loglikelihood requests:  55%|█████▌    | 22102/40168 [05:29<03:34, 84.17it/s]\rRunning loglikelihood requests:  55%|█████▌    | 22166/40168 [05:29<03:31, 85.01it/s]\rRunning loglikelihood requests:  55%|█████▌    | 22230/40168 [05:30<03:29, 85.61it/s]\rRunning loglikelihood requests:  56%|█████▌    | 22294/40168 [05:31<03:27, 86.04it/s]\rRunning loglikelihood requests:  56%|█████▌    | 22358/40168 [05:32<03:26, 86.34it/s]\rRunning loglikelihood requests:  56%|█████▌    | 22422/40168 [05:32<03:25, 86.54it/s]\rRunning loglikelihood requests:  56%|█████▌    | 22486/40168 [05:33<03:23, 86.68it/s]\rRunning loglikelihood requests:  56%|█████▌    | 22550/40168 [05:34<03:23, 86.75it/s]\rRunning loglikelihood requests:  56%|█████▋    | 22614/40168 [05:34<03:22, 86.86it/s]\rRunning loglikelihood requests:  56%|█████▋    | 22679/40168 [05:35<03:20, 87.33it/s]\rRunning loglikelihood requests:  57%|█████▋    | 22743/40168 [05:36<03:19, 87.27it/s]\rRunning loglikelihood requests:  57%|█████▋    | 22807/40168 [05:37<03:19, 87.23it/s]\rRunning loglikelihood requests:  57%|█████▋    | 22871/40168 [05:37<03:18, 87.20it/s]\rRunning loglikelihood requests:  57%|█████▋    | 22935/40168 [05:38<03:17, 87.17it/s]\rRunning loglikelihood requests:  57%|█████▋    | 22999/40168 [05:39<03:17, 87.15it/s]\rRunning loglikelihood requests:  57%|█████▋    | 23063/40168 [05:40<03:15, 87.50it/s]\rRunning loglikelihood requests:  58%|█████▊    | 23127/40168 [05:40<03:14, 87.75it/s]\rRunning loglikelihood requests:  58%|█████▊    | 23191/40168 [05:41<03:13, 87.93it/s]\rRunning loglikelihood requests:  58%|█████▊    | 23255/40168 [05:42<03:12, 88.05it/s]\rRunning loglikelihood requests:  58%|█████▊    | 23320/40168 [05:42<03:10, 88.54it/s]\rRunning loglikelihood requests:  58%|█████▊    | 23384/40168 [05:43<03:09, 88.48it/s]\rRunning loglikelihood requests:  58%|█████▊    | 23448/40168 [05:44<03:09, 88.40it/s]\rRunning loglikelihood requests:  59%|█████▊    | 23512/40168 [05:45<03:08, 88.43it/s]\rRunning loglikelihood requests:  59%|█████▊    | 23576/40168 [05:45<03:07, 88.49it/s]\rRunning loglikelihood requests:  59%|█████▉    | 23640/40168 [05:46<03:06, 88.53it/s]\rRunning loglikelihood requests:  59%|█████▉    | 23704/40168 [05:47<03:05, 88.55it/s]\rRunning loglikelihood requests:  59%|█████▉    | 23768/40168 [05:48<03:07, 87.60it/s]\rRunning loglikelihood requests:  59%|█████▉    | 23832/40168 [05:48<03:05, 87.91it/s]\rRunning loglikelihood requests:  59%|█████▉    | 23896/40168 [05:49<03:04, 88.10it/s]\rRunning loglikelihood requests:  60%|█████▉    | 23960/40168 [05:50<03:03, 88.39it/s]\rRunning loglikelihood requests:  60%|█████▉    | 24024/40168 [05:50<03:02, 88.61it/s]\rRunning loglikelihood requests:  60%|█████▉    | 24088/40168 [05:51<03:01, 88.76it/s]\rRunning loglikelihood requests:  60%|██████    | 24152/40168 [05:52<03:00, 88.87it/s]\rRunning loglikelihood requests:  60%|██████    | 24216/40168 [05:53<02:59, 88.95it/s]\rRunning loglikelihood requests:  60%|██████    | 24280/40168 [05:53<02:58, 88.99it/s]\rRunning loglikelihood requests:  61%|██████    | 24344/40168 [05:54<02:57, 89.04it/s]\rRunning loglikelihood requests:  61%|██████    | 24408/40168 [05:55<02:56, 89.07it/s]\rRunning loglikelihood requests:  61%|██████    | 24472/40168 [05:55<02:56, 89.10it/s]\rRunning loglikelihood requests:  61%|██████    | 24536/40168 [05:56<02:55, 89.11it/s]\rRunning loglikelihood requests:  61%|██████    | 24600/40168 [05:57<02:54, 89.13it/s]\rRunning loglikelihood requests:  61%|██████▏   | 24664/40168 [05:58<02:54, 89.07it/s]\rRunning loglikelihood requests:  62%|██████▏   | 24728/40168 [05:58<02:52, 89.35it/s]\rRunning loglikelihood requests:  62%|██████▏   | 24792/40168 [05:59<02:51, 89.57it/s]\rRunning loglikelihood requests:  62%|██████▏   | 24856/40168 [06:00<02:50, 89.74it/s]\rRunning loglikelihood requests:  62%|██████▏   | 24920/40168 [06:00<02:49, 89.85it/s]\rRunning loglikelihood requests:  62%|██████▏   | 24984/40168 [06:01<02:48, 89.87it/s]\rRunning loglikelihood requests:  62%|██████▏   | 25048/40168 [06:02<02:45, 91.20it/s]\rRunning loglikelihood requests:  63%|██████▎   | 25112/40168 [06:03<02:43, 92.15it/s]\rRunning loglikelihood requests:  63%|██████▎   | 25176/40168 [06:03<02:41, 92.83it/s]\rRunning loglikelihood requests:  63%|██████▎   | 25240/40168 [06:04<02:39, 93.31it/s]\rRunning loglikelihood requests:  63%|██████▎   | 25304/40168 [06:05<02:38, 93.60it/s]\rRunning loglikelihood requests:  63%|██████▎   | 25368/40168 [06:05<02:37, 94.01it/s]\rRunning loglikelihood requests:  63%|██████▎   | 25432/40168 [06:06<02:36, 94.31it/s]\rRunning loglikelihood requests:  63%|██████▎   | 25496/40168 [06:07<02:35, 94.50it/s]\rRunning loglikelihood requests:  64%|██████▎   | 25560/40168 [06:07<02:34, 94.65it/s]\rRunning loglikelihood requests:  64%|██████▍   | 25624/40168 [06:08<02:33, 94.69it/s]\rRunning loglikelihood requests:  64%|██████▍   | 25688/40168 [06:09<02:32, 95.18it/s]\rRunning loglikelihood requests:  64%|██████▍   | 25752/40168 [06:09<02:30, 95.53it/s]\rRunning loglikelihood requests:  64%|██████▍   | 25816/40168 [06:10<02:29, 95.75it/s]\rRunning loglikelihood requests:  64%|██████▍   | 25880/40168 [06:11<02:29, 95.86it/s]\rRunning loglikelihood requests:  65%|██████▍   | 25944/40168 [06:11<02:28, 96.09it/s]\rRunning loglikelihood requests:  65%|██████▍   | 26008/40168 [06:12<02:27, 96.26it/s]\rRunning loglikelihood requests:  65%|██████▍   | 26072/40168 [06:13<02:26, 96.38it/s]\rRunning loglikelihood requests:  65%|██████▌   | 26136/40168 [06:13<02:25, 96.44it/s]\rRunning loglikelihood requests:  65%|██████▌   | 26200/40168 [06:14<02:24, 96.63it/s]\rRunning loglikelihood requests:  65%|██████▌   | 26264/40168 [06:15<02:23, 96.77it/s]\rRunning loglikelihood requests:  66%|██████▌   | 26328/40168 [06:15<02:22, 96.86it/s]\rRunning loglikelihood requests:  66%|██████▌   | 26392/40168 [06:16<02:22, 96.93it/s]\rRunning loglikelihood requests:  66%|██████▌   | 26456/40168 [06:17<02:20, 97.33it/s]\rRunning loglikelihood requests:  66%|██████▌   | 26520/40168 [06:17<02:19, 97.62it/s]\rRunning loglikelihood requests:  66%|██████▌   | 26584/40168 [06:18<02:18, 97.82it/s]\rRunning loglikelihood requests:  66%|██████▋   | 26648/40168 [06:19<02:18, 97.91it/s]\rRunning loglikelihood requests:  67%|██████▋   | 26712/40168 [06:19<02:17, 98.10it/s]\rRunning loglikelihood requests:  67%|██████▋   | 26776/40168 [06:20<02:16, 98.24it/s]\rRunning loglikelihood requests:  67%|██████▋   | 26840/40168 [06:20<02:15, 98.31it/s]\rRunning loglikelihood requests:  67%|██████▋   | 26904/40168 [06:21<02:12, 99.83it/s]\rRunning loglikelihood requests:  67%|██████▋   | 26968/40168 [06:22<02:10, 100.93it/s]\rRunning loglikelihood requests:  67%|██████▋   | 27032/40168 [06:22<02:09, 101.67it/s]\rRunning loglikelihood requests:  67%|██████▋   | 27096/40168 [06:23<02:07, 102.34it/s]\rRunning loglikelihood requests:  68%|██████▊   | 27160/40168 [06:24<02:06, 102.85it/s]\rRunning loglikelihood requests:  68%|██████▊   | 27224/40168 [06:24<02:05, 103.16it/s]\rRunning loglikelihood requests:  68%|██████▊   | 27288/40168 [06:25<02:04, 103.84it/s]\rRunning loglikelihood requests:  68%|██████▊   | 27352/40168 [06:25<02:02, 104.31it/s]\rRunning loglikelihood requests:  68%|██████▊   | 27416/40168 [06:26<02:01, 105.05it/s]\rRunning loglikelihood requests:  68%|██████▊   | 27480/40168 [06:27<02:00, 105.56it/s]\rRunning loglikelihood requests:  69%|██████▊   | 27544/40168 [06:27<01:59, 105.86it/s]\rRunning loglikelihood requests:  69%|██████▊   | 27608/40168 [06:28<01:58, 106.30it/s]\rRunning loglikelihood requests:  69%|██████▉   | 27672/40168 [06:28<01:57, 106.56it/s]\rRunning loglikelihood requests:  69%|██████▉   | 27736/40168 [06:29<01:55, 107.27it/s]\rRunning loglikelihood requests:  69%|██████▉   | 27800/40168 [06:30<01:54, 107.77it/s]\rRunning loglikelihood requests:  69%|██████▉   | 27864/40168 [06:30<01:53, 108.02it/s]\rRunning loglikelihood requests:  70%|██████▉   | 27928/40168 [06:31<01:52, 108.39it/s]\rRunning loglikelihood requests:  70%|██████▉   | 27992/40168 [06:31<01:52, 108.60it/s]\rRunning loglikelihood requests:  70%|██████▉   | 28056/40168 [06:32<01:49, 110.61it/s]\rRunning loglikelihood requests:  70%|███████   | 28120/40168 [06:32<01:47, 112.07it/s]\rRunning loglikelihood requests:  70%|███████   | 28184/40168 [06:33<01:46, 113.01it/s]\rRunning loglikelihood requests:  70%|███████   | 28248/40168 [06:34<01:44, 114.26it/s]\rRunning loglikelihood requests:  70%|███████   | 28312/40168 [06:34<01:43, 115.06it/s]\rRunning loglikelihood requests:  71%|███████   | 28376/40168 [06:35<01:41, 115.90it/s]\rRunning loglikelihood requests:  71%|███████   | 28440/40168 [06:35<01:40, 116.49it/s]\rRunning loglikelihood requests:  71%|███████   | 28504/40168 [06:36<01:39, 116.79it/s]\rRunning loglikelihood requests:  71%|███████   | 28568/40168 [06:36<01:38, 117.52it/s]\rRunning loglikelihood requests:  71%|███████▏  | 28632/40168 [06:37<01:37, 118.03it/s]\rRunning loglikelihood requests:  71%|███████▏  | 28696/40168 [06:37<01:36, 118.53it/s]\rRunning loglikelihood requests:  72%|███████▏  | 28760/40168 [06:38<01:36, 118.82it/s]\rRunning loglikelihood requests:  72%|███████▏  | 28824/40168 [06:38<01:35, 119.01it/s]\rRunning loglikelihood requests:  72%|███████▏  | 28888/40168 [06:39<01:34, 119.73it/s]\rRunning loglikelihood requests:  72%|███████▏  | 28952/40168 [06:39<01:33, 120.24it/s]\rRunning loglikelihood requests:  72%|███████▏  | 29016/40168 [06:40<01:32, 120.58it/s]\rRunning loglikelihood requests:  72%|███████▏  | 29080/40168 [06:40<01:30, 122.95it/s]\rRunning loglikelihood requests:  73%|███████▎  | 29144/40168 [06:41<01:28, 124.66it/s]\rRunning loglikelihood requests:  73%|███████▎  | 29208/40168 [06:41<01:27, 125.88it/s]\rRunning loglikelihood requests:  73%|███████▎  | 29272/40168 [06:42<01:25, 126.95it/s]\rRunning loglikelihood requests:  73%|███████▎  | 29336/40168 [06:42<01:24, 127.74it/s]\rRunning loglikelihood requests:  73%|███████▎  | 29400/40168 [06:43<01:23, 128.28it/s]\rRunning loglikelihood requests:  73%|███████▎  | 29464/40168 [06:43<01:23, 128.52it/s]\rRunning loglikelihood requests:  74%|███████▎  | 29528/40168 [06:44<01:22, 129.46it/s]\rRunning loglikelihood requests:  74%|███████▎  | 29592/40168 [06:44<01:21, 130.14it/s]\rRunning loglikelihood requests:  74%|███████▍  | 29656/40168 [06:45<01:20, 130.56it/s]\rRunning loglikelihood requests:  74%|███████▍  | 29720/40168 [06:45<01:19, 131.10it/s]\rRunning loglikelihood requests:  74%|███████▍  | 29784/40168 [06:46<01:18, 131.48it/s]\rRunning loglikelihood requests:  74%|███████▍  | 29848/40168 [06:46<01:18, 131.74it/s]\rRunning loglikelihood requests:  74%|███████▍  | 29912/40168 [06:47<01:17, 131.85it/s]\rRunning loglikelihood requests:  75%|███████▍  | 29976/40168 [06:47<01:16, 132.50it/s]\rRunning loglikelihood requests:  75%|███████▍  | 30040/40168 [06:48<01:16, 132.93it/s]\rRunning loglikelihood requests:  75%|███████▍  | 30104/40168 [06:48<01:15, 133.24it/s]\rRunning loglikelihood requests:  75%|███████▌  | 30168/40168 [06:49<01:15, 133.30it/s]\rRunning loglikelihood requests:  75%|███████▌  | 30232/40168 [06:49<01:14, 133.70it/s]\rRunning loglikelihood requests:  75%|███████▌  | 30296/40168 [06:50<01:13, 134.09it/s]\rRunning loglikelihood requests:  76%|███████▌  | 30360/40168 [06:50<01:12, 134.37it/s]\rRunning loglikelihood requests:  76%|███████▌  | 30424/40168 [06:51<01:12, 134.54it/s]\rRunning loglikelihood requests:  76%|███████▌  | 30488/40168 [06:51<01:11, 134.53it/s]\rRunning loglikelihood requests:  76%|███████▌  | 30552/40168 [06:52<01:11, 135.38it/s]\rRunning loglikelihood requests:  76%|███████▌  | 30616/40168 [06:52<01:10, 135.98it/s]\rRunning loglikelihood requests:  76%|███████▋  | 30680/40168 [06:52<01:09, 136.37it/s]\rRunning loglikelihood requests:  77%|███████▋  | 30744/40168 [06:53<01:08, 136.63it/s]\rRunning loglikelihood requests:  77%|███████▋  | 30808/40168 [06:53<01:07, 139.42it/s]\rRunning loglikelihood requests:  77%|███████▋  | 30872/40168 [06:54<01:05, 141.45it/s]\rRunning loglikelihood requests:  77%|███████▋  | 30936/40168 [06:54<01:04, 142.90it/s]\rRunning loglikelihood requests:  77%|███████▋  | 31000/40168 [06:55<01:03, 143.92it/s]\rRunning loglikelihood requests:  77%|███████▋  | 31064/40168 [06:55<01:02, 144.65it/s]\rRunning loglikelihood requests:  77%|███████▋  | 31128/40168 [06:56<01:02, 145.03it/s]\rRunning loglikelihood requests:  78%|███████▊  | 31192/40168 [06:56<01:01, 145.73it/s]\rRunning loglikelihood requests:  78%|███████▊  | 31256/40168 [06:56<01:00, 146.18it/s]\rRunning loglikelihood requests:  78%|███████▊  | 31320/40168 [06:57<01:00, 146.54it/s]\rRunning loglikelihood requests:  78%|███████▊  | 31384/40168 [06:57<00:59, 146.80it/s]\rRunning loglikelihood requests:  78%|███████▊  | 31448/40168 [06:58<00:59, 146.90it/s]\rRunning loglikelihood requests:  78%|███████▊  | 31512/40168 [06:58<00:58, 147.84it/s]\rRunning loglikelihood requests:  79%|███████▊  | 31576/40168 [06:59<00:57, 148.49it/s]\rRunning loglikelihood requests:  79%|███████▉  | 31640/40168 [06:59<00:57, 148.94it/s]\rRunning loglikelihood requests:  79%|███████▉  | 31704/40168 [06:59<00:56, 149.23it/s]\rRunning loglikelihood requests:  79%|███████▉  | 31768/40168 [07:00<00:56, 149.45it/s]\rRunning loglikelihood requests:  79%|███████▉  | 31832/40168 [07:00<00:55, 149.46it/s]\rRunning loglikelihood requests:  79%|███████▉  | 31896/40168 [07:01<00:55, 149.96it/s]\rRunning loglikelihood requests:  80%|███████▉  | 31960/40168 [07:01<00:54, 150.34it/s]\rRunning loglikelihood requests:  80%|███████▉  | 32024/40168 [07:02<00:54, 150.56it/s]\rRunning loglikelihood requests:  80%|███████▉  | 32088/40168 [07:02<00:53, 150.75it/s]\rRunning loglikelihood requests:  80%|████████  | 32152/40168 [07:02<00:53, 150.86it/s]\rRunning loglikelihood requests:  80%|████████  | 32216/40168 [07:03<00:52, 150.81it/s]\rRunning loglikelihood requests:  80%|████████  | 32280/40168 [07:03<00:51, 151.79it/s]\rRunning loglikelihood requests:  81%|████████  | 32344/40168 [07:04<00:51, 152.49it/s]\rRunning loglikelihood requests:  81%|████████  | 32408/40168 [07:04<00:50, 153.01it/s]\rRunning loglikelihood requests:  81%|████████  | 32472/40168 [07:05<00:50, 153.39it/s]\rRunning loglikelihood requests:  81%|████████  | 32536/40168 [07:05<00:49, 153.64it/s]\rRunning loglikelihood requests:  81%|████████  | 32600/40168 [07:05<00:49, 153.72it/s]\rRunning loglikelihood requests:  81%|████████▏ | 32664/40168 [07:06<00:48, 154.66it/s]\rRunning loglikelihood requests:  81%|████████▏ | 32728/40168 [07:06<00:47, 155.23it/s]\rRunning loglikelihood requests:  82%|████████▏ | 32792/40168 [07:07<00:47, 155.62it/s]\rRunning loglikelihood requests:  82%|████████▏ | 32856/40168 [07:07<00:46, 155.91it/s]\rRunning loglikelihood requests:  82%|████████▏ | 32920/40168 [07:07<00:46, 156.12it/s]\rRunning loglikelihood requests:  82%|████████▏ | 32984/40168 [07:08<00:45, 156.25it/s]\rRunning loglikelihood requests:  82%|████████▏ | 33048/40168 [07:08<00:45, 156.24it/s]\rRunning loglikelihood requests:  82%|████████▏ | 33112/40168 [07:09<00:45, 156.63it/s]\rRunning loglikelihood requests:  83%|████████▎ | 33176/40168 [07:09<00:44, 157.02it/s]\rRunning loglikelihood requests:  83%|████████▎ | 33240/40168 [07:09<00:44, 157.26it/s]\rRunning loglikelihood requests:  83%|████████▎ | 33304/40168 [07:10<00:43, 157.47it/s]\rRunning loglikelihood requests:  83%|████████▎ | 33368/40168 [07:10<00:43, 157.58it/s]\rRunning loglikelihood requests:  83%|████████▎ | 33432/40168 [07:11<00:42, 157.57it/s]\rRunning loglikelihood requests:  83%|████████▎ | 33496/40168 [07:11<00:42, 157.42it/s]\rRunning loglikelihood requests:  84%|████████▎ | 33560/40168 [07:11<00:41, 160.93it/s]\rRunning loglikelihood requests:  84%|████████▎ | 33624/40168 [07:12<00:40, 163.49it/s]\rRunning loglikelihood requests:  84%|████████▍ | 33688/40168 [07:12<00:39, 165.32it/s]\rRunning loglikelihood requests:  84%|████████▍ | 33752/40168 [07:13<00:38, 166.61it/s]\rRunning loglikelihood requests:  84%|████████▍ | 33816/40168 [07:13<00:37, 167.55it/s]\rRunning loglikelihood requests:  84%|████████▍ | 33880/40168 [07:13<00:37, 168.23it/s]\rRunning loglikelihood requests:  85%|████████▍ | 33944/40168 [07:14<00:36, 168.58it/s]\rRunning loglikelihood requests:  85%|████████▍ | 34008/40168 [07:14<00:36, 169.26it/s]\rRunning loglikelihood requests:  85%|████████▍ | 34072/40168 [07:14<00:35, 169.70it/s]\rRunning loglikelihood requests:  85%|████████▍ | 34136/40168 [07:15<00:35, 170.06it/s]\rRunning loglikelihood requests:  85%|████████▌ | 34200/40168 [07:15<00:35, 170.31it/s]\rRunning loglikelihood requests:  85%|████████▌ | 34264/40168 [07:16<00:34, 170.47it/s]\rRunning loglikelihood requests:  85%|████████▌ | 34328/40168 [07:16<00:34, 170.58it/s]\rRunning loglikelihood requests:  86%|████████▌ | 34392/40168 [07:16<00:33, 170.53it/s]\rRunning loglikelihood requests:  86%|████████▌ | 34456/40168 [07:17<00:33, 171.74it/s]\rRunning loglikelihood requests:  86%|████████▌ | 34520/40168 [07:17<00:32, 172.62it/s]\rRunning loglikelihood requests:  86%|████████▌ | 34584/40168 [07:17<00:32, 173.24it/s]\rRunning loglikelihood requests:  86%|████████▋ | 34648/40168 [07:18<00:31, 173.66it/s]\rRunning loglikelihood requests:  86%|████████▋ | 34712/40168 [07:18<00:31, 173.97it/s]\rRunning loglikelihood requests:  87%|████████▋ | 34776/40168 [07:19<00:30, 174.22it/s]\rRunning loglikelihood requests:  87%|████████▋ | 34840/40168 [07:19<00:30, 174.36it/s]\rRunning loglikelihood requests:  87%|████████▋ | 34904/40168 [07:19<00:29, 175.85it/s]\rRunning loglikelihood requests:  87%|████████▋ | 34968/40168 [07:20<00:29, 176.88it/s]\rRunning loglikelihood requests:  87%|████████▋ | 35032/40168 [07:20<00:28, 177.69it/s]\rRunning loglikelihood requests:  87%|████████▋ | 35096/40168 [07:20<00:28, 178.21it/s]\rRunning loglikelihood requests:  88%|████████▊ | 35160/40168 [07:21<00:28, 178.57it/s]\rRunning loglikelihood requests:  88%|████████▊ | 35224/40168 [07:21<00:27, 178.82it/s]\rRunning loglikelihood requests:  88%|████████▊ | 35288/40168 [07:21<00:27, 179.02it/s]\rRunning loglikelihood requests:  88%|████████▊ | 35352/40168 [07:22<00:26, 178.99it/s]\rRunning loglikelihood requests:  88%|████████▊ | 35416/40168 [07:22<00:26, 179.53it/s]\rRunning loglikelihood requests:  88%|████████▊ | 35480/40168 [07:22<00:26, 179.77it/s]\rRunning loglikelihood requests:  88%|████████▊ | 35544/40168 [07:23<00:25, 179.80it/s]\rRunning loglikelihood requests:  89%|████████▊ | 35608/40168 [07:23<00:25, 179.80it/s]\rRunning loglikelihood requests:  89%|████████▉ | 35672/40168 [07:24<00:24, 179.86it/s]\rRunning loglikelihood requests:  89%|████████▉ | 35736/40168 [07:24<00:24, 179.87it/s]\rRunning loglikelihood requests:  89%|████████▉ | 35800/40168 [07:24<00:24, 179.76it/s]\rRunning loglikelihood requests:  89%|████████▉ | 35864/40168 [07:25<00:23, 181.24it/s]\rRunning loglikelihood requests:  89%|████████▉ | 35928/40168 [07:25<00:23, 182.45it/s]\rRunning loglikelihood requests:  90%|████████▉ | 35992/40168 [07:25<00:22, 183.30it/s]\rRunning loglikelihood requests:  90%|████████▉ | 36056/40168 [07:26<00:22, 183.89it/s]\rRunning loglikelihood requests:  90%|████████▉ | 36120/40168 [07:26<00:21, 184.35it/s]\rRunning loglikelihood requests:  90%|█████████ | 36184/40168 [07:26<00:21, 184.63it/s]\rRunning loglikelihood requests:  90%|█████████ | 36248/40168 [07:27<00:21, 184.64it/s]\rRunning loglikelihood requests:  90%|█████████ | 36312/40168 [07:27<00:20, 185.22it/s]\rRunning loglikelihood requests:  91%|█████████ | 36376/40168 [07:27<00:20, 185.48it/s]\rRunning loglikelihood requests:  91%|█████████ | 36440/40168 [07:28<00:20, 185.57it/s]\rRunning loglikelihood requests:  91%|█████████ | 36504/40168 [07:28<00:19, 185.66it/s]\rRunning loglikelihood requests:  91%|█████████ | 36568/40168 [07:28<00:19, 185.69it/s]\rRunning loglikelihood requests:  91%|█████████ | 36632/40168 [07:29<00:19, 185.57it/s]\rRunning loglikelihood requests:  91%|█████████▏| 36696/40168 [07:29<00:18, 189.90it/s]\rRunning loglikelihood requests:  92%|█████████▏| 36760/40168 [07:29<00:17, 193.18it/s]\rRunning loglikelihood requests:  92%|█████████▏| 36824/40168 [07:30<00:17, 195.51it/s]\rRunning loglikelihood requests:  92%|█████████▏| 36888/40168 [07:30<00:16, 197.21it/s]\rRunning loglikelihood requests:  92%|█████████▏| 36952/40168 [07:30<00:16, 198.45it/s]\rRunning loglikelihood requests:  92%|█████████▏| 37016/40168 [07:31<00:15, 199.18it/s]\rRunning loglikelihood requests:  92%|█████████▏| 37080/40168 [07:31<00:15, 201.68it/s]\rRunning loglikelihood requests:  92%|█████████▏| 37144/40168 [07:31<00:14, 203.44it/s]\rRunning loglikelihood requests:  93%|█████████▎| 37208/40168 [07:32<00:14, 204.66it/s]\rRunning loglikelihood requests:  93%|█████████▎| 37272/40168 [07:32<00:14, 205.53it/s]\rRunning loglikelihood requests:  93%|█████████▎| 37336/40168 [07:32<00:13, 206.15it/s]\rRunning loglikelihood requests:  93%|█████████▎| 37400/40168 [07:32<00:13, 207.01it/s]\rRunning loglikelihood requests:  93%|█████████▎| 37464/40168 [07:33<00:13, 207.60it/s]\rRunning loglikelihood requests:  93%|█████████▎| 37528/40168 [07:33<00:12, 208.10it/s]\rRunning loglikelihood requests:  94%|█████████▎| 37592/40168 [07:33<00:12, 208.41it/s]\rRunning loglikelihood requests:  94%|█████████▎| 37656/40168 [07:34<00:12, 208.64it/s]\rRunning loglikelihood requests:  94%|█████████▍| 37720/40168 [07:34<00:11, 208.45it/s]\rRunning loglikelihood requests:  94%|█████████▍| 37784/40168 [07:34<00:11, 211.07it/s]\rRunning loglikelihood requests:  94%|█████████▍| 37848/40168 [07:35<00:10, 212.72it/s]\rRunning loglikelihood requests:  94%|█████████▍| 37912/40168 [07:35<00:10, 213.83it/s]\rRunning loglikelihood requests:  95%|█████████▍| 37976/40168 [07:35<00:10, 214.50it/s]\rRunning loglikelihood requests:  95%|█████████▍| 38040/40168 [07:35<00:09, 215.75it/s]\rRunning loglikelihood requests:  95%|█████████▍| 38104/40168 [07:36<00:09, 216.66it/s]\rRunning loglikelihood requests:  95%|█████████▌| 38168/40168 [07:36<00:09, 217.26it/s]\rRunning loglikelihood requests:  95%|█████████▌| 38232/40168 [07:36<00:08, 217.58it/s]\rRunning loglikelihood requests:  95%|█████████▌| 38296/40168 [07:37<00:08, 219.68it/s]\rRunning loglikelihood requests:  95%|█████████▌| 38360/40168 [07:37<00:08, 221.16it/s]\rRunning loglikelihood requests:  96%|█████████▌| 38424/40168 [07:37<00:07, 222.33it/s]\rRunning loglikelihood requests:  96%|█████████▌| 38488/40168 [07:37<00:07, 223.06it/s]\rRunning loglikelihood requests:  96%|█████████▌| 38552/40168 [07:38<00:07, 223.19it/s]\rRunning loglikelihood requests:  96%|█████████▌| 38616/40168 [07:38<00:06, 229.74it/s]\rRunning loglikelihood requests:  96%|█████████▋| 38680/40168 [07:38<00:06, 234.52it/s]\rRunning loglikelihood requests:  96%|█████████▋| 38744/40168 [07:39<00:05, 237.87it/s]\rRunning loglikelihood requests:  97%|█████████▋| 38808/40168 [07:39<00:05, 240.08it/s]\rRunning loglikelihood requests:  97%|█████████▋| 38872/40168 [07:39<00:05, 241.35it/s]\rRunning loglikelihood requests:  97%|█████████▋| 38936/40168 [07:39<00:05, 242.25it/s]\rRunning loglikelihood requests:  97%|█████████▋| 39000/40168 [07:40<00:04, 242.63it/s]\rRunning loglikelihood requests:  97%|█████████▋| 39064/40168 [07:40<00:04, 246.89it/s]\rRunning loglikelihood requests:  97%|█████████▋| 39128/40168 [07:40<00:04, 250.07it/s]\rRunning loglikelihood requests:  98%|█████████▊| 39192/40168 [07:40<00:03, 252.24it/s]\rRunning loglikelihood requests:  98%|█████████▊| 39256/40168 [07:41<00:03, 253.14it/s]\rRunning loglikelihood requests:  98%|█████████▊| 39320/40168 [07:41<00:03, 255.22it/s]\rRunning loglikelihood requests:  98%|█████████▊| 39384/40168 [07:41<00:03, 256.65it/s]\rRunning loglikelihood requests:  98%|█████████▊| 39448/40168 [07:41<00:02, 257.15it/s]\rRunning loglikelihood requests:  98%|█████████▊| 39512/40168 [07:42<00:02, 261.89it/s]\rRunning loglikelihood requests:  99%|█████████▊| 39576/40168 [07:42<00:02, 265.34it/s]\rRunning loglikelihood requests:  99%|█████████▊| 39640/40168 [07:42<00:01, 267.49it/s]\rRunning loglikelihood requests:  99%|█████████▉| 39704/40168 [07:42<00:01, 269.97it/s]\rRunning loglikelihood requests:  99%|█████████▉| 39768/40168 [07:43<00:01, 271.69it/s]\rRunning loglikelihood requests:  99%|█████████▉| 39832/40168 [07:43<00:01, 272.69it/s]\rRunning loglikelihood requests:  99%|█████████▉| 39896/40168 [07:43<00:00, 276.54it/s]\rRunning loglikelihood requests:  99%|█████████▉| 39960/40168 [07:43<00:00, 278.92it/s]\rRunning loglikelihood requests: 100%|█████████▉| 40024/40168 [07:43<00:00, 290.12it/s]\rRunning loglikelihood requests: 100%|█████████▉| 40088/40168 [07:44<00:00, 299.55it/s]\rRunning loglikelihood requests: 100%|██████████| 40168/40168 [07:44<00:00, 86.54it/s] \n",
            "2024-10-24:11:29:33,220 WARNING  [huggingface.py:1353] Failed to get model SHA for ./merged_model at revision main. Error: Repo id must use alphanumeric chars or '-', '_', '.', '--' and '..' are forbidden, '-' and '.' cannot start or end the name, max length is 96: './merged_model'.\n",
            "fatal: not a git repository (or any of the parent directories): .git\n",
            "2024-10-24:11:29:35,211 INFO     [evaluation_tracker.py:206] Saving results aggregated\n"
          ]
        }
      ]
    },
    {
      "cell_type": "code",
      "execution_count": null,
      "metadata": {
        "id": "RuN2thEHwhe1",
        "colab": {
          "base_uri": "https://localhost:8080/",
          "height": 52
        },
        "outputId": "29ec012f-d6e6-490d-b14c-991a6d09c77d"
      },
      "outputs": [
        {
          "output_type": "execute_result",
          "data": {
            "text/plain": [
              "RepoUrl('https://huggingface.co/uonyeka/uonyeka-llama-3.2.Instruct', endpoint='https://huggingface.co', repo_type='model', repo_id='uonyeka/uonyeka-llama-3.2.Instruct')"
            ],
            "application/vnd.google.colaboratory.intrinsic+json": {
              "type": "string"
            }
          },
          "metadata": {},
          "execution_count": 18
        }
      ],
      "source": [
        "from huggingface_hub import create_repo\n",
        "\n",
        "create_repo(repo_id=\"uonyeka-llama-3.2.Instruct\", repo_type=\"model\")"
      ]
    },
    {
      "cell_type": "code",
      "source": [
        "from google.colab import userdata\n",
        "\n",
        "model = AutoModelForCausalLM.from_pretrained(\"./merged_model\")\n",
        "tokenizer = AutoTokenizer.from_pretrained(\"./merged_model\")\n",
        "model.push_to_hub(\"uonyeka-llama-3.2.Instruct\", token=userdata.get('HF_TOKEN'))"
      ],
      "metadata": {
        "colab": {
          "base_uri": "https://localhost:8080/",
          "height": 101,
          "referenced_widgets": [
            "95166b26672745dc803815fce35a1a94",
            "ce9d91fd9a9e4f35943e8d076ce1acfe",
            "378edf71518e4004b16f95e11c691bb7",
            "712f867184be4e17a0dbdbc50d3a11a9",
            "08653e10a924459aa021e9fab7bd85bc",
            "5df27d2759c047b082bba07c6fa16395",
            "85874d02bf97470996829ce669223e77",
            "99540f887c624c9f8063b67165d573de",
            "6e2d0887532344b18816c941abcf64d8",
            "7f155355a01444ebb5c693ec26a12e13",
            "ecbe4ffd9f07450cbadec55c66a6f7f9"
          ]
        },
        "id": "BsOkw2MyYA0u",
        "outputId": "e9dfb219-23b0-449c-d7f3-d0faba62ede6"
      },
      "execution_count": null,
      "outputs": [
        {
          "output_type": "display_data",
          "data": {
            "text/plain": [
              "model.safetensors:   0%|          | 0.00/4.94G [00:00<?, ?B/s]"
            ],
            "application/vnd.jupyter.widget-view+json": {
              "version_major": 2,
              "version_minor": 0,
              "model_id": "95166b26672745dc803815fce35a1a94"
            }
          },
          "metadata": {}
        },
        {
          "output_type": "execute_result",
          "data": {
            "text/plain": [
              "CommitInfo(commit_url='https://huggingface.co/uonyeka/uonyeka-llama-3.2.Instruct/commit/da3c52a7a0bb9a2e936bd7882c0fa95d32214897', commit_message='Upload LlamaForCausalLM', commit_description='', oid='da3c52a7a0bb9a2e936bd7882c0fa95d32214897', pr_url=None, pr_revision=None, pr_num=None)"
            ],
            "application/vnd.google.colaboratory.intrinsic+json": {
              "type": "string"
            }
          },
          "metadata": {},
          "execution_count": 19
        }
      ]
    }
  ],
  "metadata": {
    "accelerator": "GPU",
    "colab": {
      "gpuType": "A100",
      "machine_shape": "hm",
      "provenance": [],
      "include_colab_link": true
    },
    "kernelspec": {
      "display_name": "Python 3",
      "name": "python3"
    },
    "language_info": {
      "name": "python"
    },
    "widgets": {
      "application/vnd.jupyter.widget-state+json": {
        "95166b26672745dc803815fce35a1a94": {
          "model_module": "@jupyter-widgets/controls",
          "model_name": "HBoxModel",
          "model_module_version": "1.5.0",
          "state": {
            "_dom_classes": [],
            "_model_module": "@jupyter-widgets/controls",
            "_model_module_version": "1.5.0",
            "_model_name": "HBoxModel",
            "_view_count": null,
            "_view_module": "@jupyter-widgets/controls",
            "_view_module_version": "1.5.0",
            "_view_name": "HBoxView",
            "box_style": "",
            "children": [
              "IPY_MODEL_ce9d91fd9a9e4f35943e8d076ce1acfe",
              "IPY_MODEL_378edf71518e4004b16f95e11c691bb7",
              "IPY_MODEL_712f867184be4e17a0dbdbc50d3a11a9"
            ],
            "layout": "IPY_MODEL_08653e10a924459aa021e9fab7bd85bc"
          }
        },
        "ce9d91fd9a9e4f35943e8d076ce1acfe": {
          "model_module": "@jupyter-widgets/controls",
          "model_name": "HTMLModel",
          "model_module_version": "1.5.0",
          "state": {
            "_dom_classes": [],
            "_model_module": "@jupyter-widgets/controls",
            "_model_module_version": "1.5.0",
            "_model_name": "HTMLModel",
            "_view_count": null,
            "_view_module": "@jupyter-widgets/controls",
            "_view_module_version": "1.5.0",
            "_view_name": "HTMLView",
            "description": "",
            "description_tooltip": null,
            "layout": "IPY_MODEL_5df27d2759c047b082bba07c6fa16395",
            "placeholder": "​",
            "style": "IPY_MODEL_85874d02bf97470996829ce669223e77",
            "value": "model.safetensors: 100%"
          }
        },
        "378edf71518e4004b16f95e11c691bb7": {
          "model_module": "@jupyter-widgets/controls",
          "model_name": "FloatProgressModel",
          "model_module_version": "1.5.0",
          "state": {
            "_dom_classes": [],
            "_model_module": "@jupyter-widgets/controls",
            "_model_module_version": "1.5.0",
            "_model_name": "FloatProgressModel",
            "_view_count": null,
            "_view_module": "@jupyter-widgets/controls",
            "_view_module_version": "1.5.0",
            "_view_name": "ProgressView",
            "bar_style": "success",
            "description": "",
            "description_tooltip": null,
            "layout": "IPY_MODEL_99540f887c624c9f8063b67165d573de",
            "max": 4943274328,
            "min": 0,
            "orientation": "horizontal",
            "style": "IPY_MODEL_6e2d0887532344b18816c941abcf64d8",
            "value": 4943274328
          }
        },
        "712f867184be4e17a0dbdbc50d3a11a9": {
          "model_module": "@jupyter-widgets/controls",
          "model_name": "HTMLModel",
          "model_module_version": "1.5.0",
          "state": {
            "_dom_classes": [],
            "_model_module": "@jupyter-widgets/controls",
            "_model_module_version": "1.5.0",
            "_model_name": "HTMLModel",
            "_view_count": null,
            "_view_module": "@jupyter-widgets/controls",
            "_view_module_version": "1.5.0",
            "_view_name": "HTMLView",
            "description": "",
            "description_tooltip": null,
            "layout": "IPY_MODEL_7f155355a01444ebb5c693ec26a12e13",
            "placeholder": "​",
            "style": "IPY_MODEL_ecbe4ffd9f07450cbadec55c66a6f7f9",
            "value": " 4.94G/4.94G [03:13&lt;00:00, 25.7MB/s]"
          }
        },
        "08653e10a924459aa021e9fab7bd85bc": {
          "model_module": "@jupyter-widgets/base",
          "model_name": "LayoutModel",
          "model_module_version": "1.2.0",
          "state": {
            "_model_module": "@jupyter-widgets/base",
            "_model_module_version": "1.2.0",
            "_model_name": "LayoutModel",
            "_view_count": null,
            "_view_module": "@jupyter-widgets/base",
            "_view_module_version": "1.2.0",
            "_view_name": "LayoutView",
            "align_content": null,
            "align_items": null,
            "align_self": null,
            "border": null,
            "bottom": null,
            "display": null,
            "flex": null,
            "flex_flow": null,
            "grid_area": null,
            "grid_auto_columns": null,
            "grid_auto_flow": null,
            "grid_auto_rows": null,
            "grid_column": null,
            "grid_gap": null,
            "grid_row": null,
            "grid_template_areas": null,
            "grid_template_columns": null,
            "grid_template_rows": null,
            "height": null,
            "justify_content": null,
            "justify_items": null,
            "left": null,
            "margin": null,
            "max_height": null,
            "max_width": null,
            "min_height": null,
            "min_width": null,
            "object_fit": null,
            "object_position": null,
            "order": null,
            "overflow": null,
            "overflow_x": null,
            "overflow_y": null,
            "padding": null,
            "right": null,
            "top": null,
            "visibility": null,
            "width": null
          }
        },
        "5df27d2759c047b082bba07c6fa16395": {
          "model_module": "@jupyter-widgets/base",
          "model_name": "LayoutModel",
          "model_module_version": "1.2.0",
          "state": {
            "_model_module": "@jupyter-widgets/base",
            "_model_module_version": "1.2.0",
            "_model_name": "LayoutModel",
            "_view_count": null,
            "_view_module": "@jupyter-widgets/base",
            "_view_module_version": "1.2.0",
            "_view_name": "LayoutView",
            "align_content": null,
            "align_items": null,
            "align_self": null,
            "border": null,
            "bottom": null,
            "display": null,
            "flex": null,
            "flex_flow": null,
            "grid_area": null,
            "grid_auto_columns": null,
            "grid_auto_flow": null,
            "grid_auto_rows": null,
            "grid_column": null,
            "grid_gap": null,
            "grid_row": null,
            "grid_template_areas": null,
            "grid_template_columns": null,
            "grid_template_rows": null,
            "height": null,
            "justify_content": null,
            "justify_items": null,
            "left": null,
            "margin": null,
            "max_height": null,
            "max_width": null,
            "min_height": null,
            "min_width": null,
            "object_fit": null,
            "object_position": null,
            "order": null,
            "overflow": null,
            "overflow_x": null,
            "overflow_y": null,
            "padding": null,
            "right": null,
            "top": null,
            "visibility": null,
            "width": null
          }
        },
        "85874d02bf97470996829ce669223e77": {
          "model_module": "@jupyter-widgets/controls",
          "model_name": "DescriptionStyleModel",
          "model_module_version": "1.5.0",
          "state": {
            "_model_module": "@jupyter-widgets/controls",
            "_model_module_version": "1.5.0",
            "_model_name": "DescriptionStyleModel",
            "_view_count": null,
            "_view_module": "@jupyter-widgets/base",
            "_view_module_version": "1.2.0",
            "_view_name": "StyleView",
            "description_width": ""
          }
        },
        "99540f887c624c9f8063b67165d573de": {
          "model_module": "@jupyter-widgets/base",
          "model_name": "LayoutModel",
          "model_module_version": "1.2.0",
          "state": {
            "_model_module": "@jupyter-widgets/base",
            "_model_module_version": "1.2.0",
            "_model_name": "LayoutModel",
            "_view_count": null,
            "_view_module": "@jupyter-widgets/base",
            "_view_module_version": "1.2.0",
            "_view_name": "LayoutView",
            "align_content": null,
            "align_items": null,
            "align_self": null,
            "border": null,
            "bottom": null,
            "display": null,
            "flex": null,
            "flex_flow": null,
            "grid_area": null,
            "grid_auto_columns": null,
            "grid_auto_flow": null,
            "grid_auto_rows": null,
            "grid_column": null,
            "grid_gap": null,
            "grid_row": null,
            "grid_template_areas": null,
            "grid_template_columns": null,
            "grid_template_rows": null,
            "height": null,
            "justify_content": null,
            "justify_items": null,
            "left": null,
            "margin": null,
            "max_height": null,
            "max_width": null,
            "min_height": null,
            "min_width": null,
            "object_fit": null,
            "object_position": null,
            "order": null,
            "overflow": null,
            "overflow_x": null,
            "overflow_y": null,
            "padding": null,
            "right": null,
            "top": null,
            "visibility": null,
            "width": null
          }
        },
        "6e2d0887532344b18816c941abcf64d8": {
          "model_module": "@jupyter-widgets/controls",
          "model_name": "ProgressStyleModel",
          "model_module_version": "1.5.0",
          "state": {
            "_model_module": "@jupyter-widgets/controls",
            "_model_module_version": "1.5.0",
            "_model_name": "ProgressStyleModel",
            "_view_count": null,
            "_view_module": "@jupyter-widgets/base",
            "_view_module_version": "1.2.0",
            "_view_name": "StyleView",
            "bar_color": null,
            "description_width": ""
          }
        },
        "7f155355a01444ebb5c693ec26a12e13": {
          "model_module": "@jupyter-widgets/base",
          "model_name": "LayoutModel",
          "model_module_version": "1.2.0",
          "state": {
            "_model_module": "@jupyter-widgets/base",
            "_model_module_version": "1.2.0",
            "_model_name": "LayoutModel",
            "_view_count": null,
            "_view_module": "@jupyter-widgets/base",
            "_view_module_version": "1.2.0",
            "_view_name": "LayoutView",
            "align_content": null,
            "align_items": null,
            "align_self": null,
            "border": null,
            "bottom": null,
            "display": null,
            "flex": null,
            "flex_flow": null,
            "grid_area": null,
            "grid_auto_columns": null,
            "grid_auto_flow": null,
            "grid_auto_rows": null,
            "grid_column": null,
            "grid_gap": null,
            "grid_row": null,
            "grid_template_areas": null,
            "grid_template_columns": null,
            "grid_template_rows": null,
            "height": null,
            "justify_content": null,
            "justify_items": null,
            "left": null,
            "margin": null,
            "max_height": null,
            "max_width": null,
            "min_height": null,
            "min_width": null,
            "object_fit": null,
            "object_position": null,
            "order": null,
            "overflow": null,
            "overflow_x": null,
            "overflow_y": null,
            "padding": null,
            "right": null,
            "top": null,
            "visibility": null,
            "width": null
          }
        },
        "ecbe4ffd9f07450cbadec55c66a6f7f9": {
          "model_module": "@jupyter-widgets/controls",
          "model_name": "DescriptionStyleModel",
          "model_module_version": "1.5.0",
          "state": {
            "_model_module": "@jupyter-widgets/controls",
            "_model_module_version": "1.5.0",
            "_model_name": "DescriptionStyleModel",
            "_view_count": null,
            "_view_module": "@jupyter-widgets/base",
            "_view_module_version": "1.2.0",
            "_view_name": "StyleView",
            "description_width": ""
          }
        }
      }
    }
  },
  "nbformat": 4,
  "nbformat_minor": 0
}